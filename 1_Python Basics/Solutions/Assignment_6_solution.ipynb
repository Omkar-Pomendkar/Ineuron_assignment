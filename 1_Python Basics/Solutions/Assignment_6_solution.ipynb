{
 "cells": [
  {
   "cell_type": "markdown",
   "id": "4702fd5d",
   "metadata": {},
   "source": [
    "1. What are escape characters, and how do you use them?"
   ]
  },
  {
   "cell_type": "markdown",
   "id": "7c1b6234",
   "metadata": {},
   "source": [
    "To insert characters that are illegal in a string, use an escape character.<br>\n",
    "\n",
    "An escape character is a backslash \\ followed by the character you want to insert."
   ]
  },
  {
   "cell_type": "code",
   "execution_count": 3,
   "id": "7bf97aa9",
   "metadata": {},
   "outputs": [
    {
     "name": "stdout",
     "output_type": "stream",
     "text": [
      "Johnny Johnny yes Papa \n",
      " Eating Sugar No Pappa \n",
      " \t  Open your Mouth HAHA HAHA\n"
     ]
    }
   ],
   "source": [
    "a = \"Johnny Johnny yes Papa \\n Eating Sugar No Pappa \\n \\t  Open your Mouth HAHA HAHA\"\n",
    "print(a)"
   ]
  },
  {
   "cell_type": "markdown",
   "id": "c0e4c93c",
   "metadata": {},
   "source": [
    "\\'\tSingle Quote\t <br>\n",
    "\\\\\tBackslash\t<br>\n",
    "\\n\tNew Line\t<br>\n",
    "\\r\tCarriage Return\t<br>\n",
    "\\t\tTab\t<br>\n",
    "\\b\tBackspace\t<br>\n",
    "\\f\tForm Feed\t<br>\n",
    "\\ooo\tOctal value\t<br>\n",
    "\\xhh\tHex value"
   ]
  },
  {
   "cell_type": "markdown",
   "id": "cb037d58",
   "metadata": {},
   "source": [
    "2. What do the escape characters n and t stand for? <br>\n",
    "\\n - New Line\n",
    "\\t - Tab Space\n"
   ]
  },
  {
   "cell_type": "markdown",
   "id": "9155d00d",
   "metadata": {},
   "source": [
    "3. What is the way to include backslash characters in a string?"
   ]
  },
  {
   "cell_type": "code",
   "execution_count": 4,
   "id": "7db4bac4",
   "metadata": {},
   "outputs": [
    {
     "name": "stdout",
     "output_type": "stream",
     "text": [
      "Good Morning \\ Everybody\n"
     ]
    }
   ],
   "source": [
    "b = \"Good Morning \\\\ Everybody\"\n",
    "print(b)"
   ]
  },
  {
   "cell_type": "markdown",
   "id": "56659d4f",
   "metadata": {},
   "source": [
    "4. The string \"Howl's Moving Castle\" is a correct value.  <br> Why isn't the single quote character in the word Howl's not escaped a problem?"
   ]
  },
  {
   "cell_type": "code",
   "execution_count": 5,
   "id": "26451bb3",
   "metadata": {},
   "outputs": [
    {
     "name": "stdout",
     "output_type": "stream",
     "text": [
      "Howl's Moving Castle\n"
     ]
    }
   ],
   "source": [
    "s = \"Howl's Moving Castle\"\n",
    "print(s)"
   ]
  },
  {
   "cell_type": "markdown",
   "id": "e312bbe7",
   "metadata": {},
   "source": [
    "It is not a Single Quote Character because if we make use of Single Quote Character it Pyhton will not understand from where the string is been started and where it is end"
   ]
  },
  {
   "cell_type": "markdown",
   "id": "77ba2e95",
   "metadata": {},
   "source": [
    "5. How do you write a string of newlines if you don't want to use the n character?"
   ]
  },
  {
   "cell_type": "code",
   "execution_count": 7,
   "id": "ef2017c7",
   "metadata": {},
   "outputs": [
    {
     "name": "stdout",
     "output_type": "stream",
     "text": [
      "omdfs\n",
      "dfsdfdsf\n",
      "sdfsfd\n",
      "sfsdfd\n"
     ]
    }
   ],
   "source": [
    "Multiline strings allow us to use newlines in strings without the \\n escape character.\n",
    "d = \"\"\"omdfs\n",
    "dfsdfdsf\n",
    "sdfsfd\n",
    "sfsdfd\"\"\"\n",
    "\n",
    "print(d)"
   ]
  },
  {
   "cell_type": "markdown",
   "id": "ad4aaa1f",
   "metadata": {},
   "source": [
    "6. What are the values of the given expressions?<br>\n",
    "'Hello, world!'[1]<br>\n",
    "'Hello, world!'[0:5]<br>\n",
    "'Hello, world!'[:5]<br>\n",
    "'Hello, world!'[3:]\n"
   ]
  },
  {
   "cell_type": "code",
   "execution_count": 9,
   "id": "7fa2526c",
   "metadata": {},
   "outputs": [
    {
     "name": "stdout",
     "output_type": "stream",
     "text": [
      "e\n"
     ]
    }
   ],
   "source": [
    "print('Hello, world!'[1])"
   ]
  },
  {
   "cell_type": "code",
   "execution_count": 10,
   "id": "167e95b3",
   "metadata": {},
   "outputs": [
    {
     "name": "stdout",
     "output_type": "stream",
     "text": [
      "Hello\n"
     ]
    }
   ],
   "source": [
    "print('Hello, world!'[0:5])"
   ]
  },
  {
   "cell_type": "code",
   "execution_count": 11,
   "id": "50cf22e7",
   "metadata": {},
   "outputs": [
    {
     "name": "stdout",
     "output_type": "stream",
     "text": [
      "Hello\n"
     ]
    }
   ],
   "source": [
    "print('Hello, world!'[0:5])"
   ]
  },
  {
   "cell_type": "code",
   "execution_count": 12,
   "id": "6a8a49a7",
   "metadata": {},
   "outputs": [
    {
     "name": "stdout",
     "output_type": "stream",
     "text": [
      "lo, world!\n"
     ]
    }
   ],
   "source": [
    "print('Hello, world!'[3:])"
   ]
  },
  {
   "cell_type": "markdown",
   "id": "1ed78334",
   "metadata": {},
   "source": [
    "7. What are the values of the following expressions?\n",
    "'Hello'.upper()\n",
    "'Hello'.upper().isupper()\n",
    "'Hello'.upper().lower()\n"
   ]
  },
  {
   "cell_type": "code",
   "execution_count": 16,
   "id": "3863fd8a",
   "metadata": {},
   "outputs": [
    {
     "data": {
      "text/plain": [
       "'HELLO'"
      ]
     },
     "execution_count": 16,
     "metadata": {},
     "output_type": "execute_result"
    }
   ],
   "source": [
    "'Hello'.upper()\n",
    "\n"
   ]
  },
  {
   "cell_type": "code",
   "execution_count": 14,
   "id": "77ad3f71",
   "metadata": {},
   "outputs": [
    {
     "data": {
      "text/plain": [
       "True"
      ]
     },
     "execution_count": 14,
     "metadata": {},
     "output_type": "execute_result"
    }
   ],
   "source": [
    "'Hello'.upper().isupper()"
   ]
  },
  {
   "cell_type": "code",
   "execution_count": 15,
   "id": "5c50d0e3",
   "metadata": {},
   "outputs": [
    {
     "data": {
      "text/plain": [
       "'hello'"
      ]
     },
     "execution_count": 15,
     "metadata": {},
     "output_type": "execute_result"
    }
   ],
   "source": [
    "'Hello'.upper().lower()"
   ]
  },
  {
   "cell_type": "markdown",
   "id": "5c2d53cf",
   "metadata": {},
   "source": [
    "8. What are the values of the following expressions?<br>\n",
    "'Remember, remember, the fifth of July.'.split()<br>\n",
    "'-'.join('There can only one.'.split())\n"
   ]
  },
  {
   "cell_type": "code",
   "execution_count": 17,
   "id": "7013b51c",
   "metadata": {},
   "outputs": [
    {
     "name": "stdout",
     "output_type": "stream",
     "text": [
      "['Remember,', 'remember,', 'the', 'fifth', 'of', 'July.']\n"
     ]
    }
   ],
   "source": [
    "print('Remember, remember, the fifth of July.'.split())"
   ]
  },
  {
   "cell_type": "code",
   "execution_count": 18,
   "id": "34791f79",
   "metadata": {},
   "outputs": [
    {
     "name": "stdout",
     "output_type": "stream",
     "text": [
      "There-can-only-one.\n"
     ]
    }
   ],
   "source": [
    "print('-'.join('There can only one.'.split()))"
   ]
  },
  {
   "cell_type": "markdown",
   "id": "c5a0ef5c",
   "metadata": {},
   "source": [
    "9. What are the methods for right-justifying, left-justifying, and centering a string?"
   ]
  },
  {
   "cell_type": "code",
   "execution_count": 19,
   "id": "e3a069e9",
   "metadata": {},
   "outputs": [],
   "source": [
    "a = \"       Omkar Pomendkar     \"\""
   ]
  },
  {
   "cell_type": "markdown",
   "id": "adacba57",
   "metadata": {},
   "source": [
    "The rjust(), ljust(), and center() string methods, respectively are the methods for right-justifying, left-justifying, and centering a string"
   ]
  },
  {
   "cell_type": "markdown",
   "id": "72af5f81",
   "metadata": {},
   "source": [
    "10. What is the best way to remove whitespace characters from the start or end?"
   ]
  },
  {
   "cell_type": "code",
   "execution_count": 24,
   "id": "c72ac51d",
   "metadata": {},
   "outputs": [
    {
     "data": {
      "text/plain": [
       "'Omkar Pomendkar'"
      ]
     },
     "execution_count": 24,
     "metadata": {},
     "output_type": "execute_result"
    }
   ],
   "source": [
    "a.lstrip()"
   ]
  },
  {
   "cell_type": "code",
   "execution_count": 25,
   "id": "1ab22caf",
   "metadata": {},
   "outputs": [
    {
     "data": {
      "text/plain": [
       "'Omkar Pomendkar'"
      ]
     },
     "execution_count": 25,
     "metadata": {},
     "output_type": "execute_result"
    }
   ],
   "source": [
    "a.rstrip()"
   ]
  },
  {
   "cell_type": "code",
   "execution_count": null,
   "id": "d7003791",
   "metadata": {},
   "outputs": [],
   "source": []
  }
 ],
 "metadata": {
  "kernelspec": {
   "display_name": "Python 3 (ipykernel)",
   "language": "python",
   "name": "python3"
  },
  "language_info": {
   "codemirror_mode": {
    "name": "ipython",
    "version": 3
   },
   "file_extension": ".py",
   "mimetype": "text/x-python",
   "name": "python",
   "nbconvert_exporter": "python",
   "pygments_lexer": "ipython3",
   "version": "3.9.13"
  }
 },
 "nbformat": 4,
 "nbformat_minor": 5
}
