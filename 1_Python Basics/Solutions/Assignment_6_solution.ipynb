{
 "cells": [
  {
   "cell_type": "markdown",
   "id": "a1b149df",
   "metadata": {},
   "source": [
    "1. What are escape characters, and how do you use them?"
   ]
  },
  {
   "cell_type": "markdown",
   "id": "0a0d5a4a",
   "metadata": {},
   "source": [
    "To insert characters that are illegal in a string, use an escape character.<br>\n",
    "\n",
    "An escape character is a backslash \\ followed by the character you want to insert."
   ]
  },
  {
   "cell_type": "code",
   "execution_count": 3,
   "id": "0b1d7626",
   "metadata": {},
   "outputs": [
    {
     "name": "stdout",
     "output_type": "stream",
     "text": [
      "Johnny Johnny yes Papa \n",
      " Eating Sugar No Pappa \n",
      " \t  Open your Mouth HAHA HAHA\n"
     ]
    }
   ],
   "source": [
    "a = \"Johnny Johnny yes Papa \\n Eating Sugar No Pappa \\n \\t  Open your Mouth HAHA HAHA\"\n",
    "print(a)"
   ]
  },
  {
   "cell_type": "markdown",
   "id": "69277d7a",
   "metadata": {},
   "source": [
    "\\'\tSingle Quote\t <br>\n",
    "\\\\\tBackslash\t<br>\n",
    "\\n\tNew Line\t<br>\n",
    "\\r\tCarriage Return\t<br>\n",
    "\\t\tTab\t<br>\n",
    "\\b\tBackspace\t<br>\n",
    "\\f\tForm Feed\t<br>\n",
    "\\ooo\tOctal value\t<br>\n",
    "\\xhh\tHex value"
   ]
  },
  {
   "cell_type": "markdown",
   "id": "dfbc8efa",
   "metadata": {},
   "source": [
    "2. What do the escape characters n and t stand for? <br>\n",
    "\\n - New Line\n",
    "\\t - Tab Space\n"
   ]
  },
  {
   "cell_type": "markdown",
   "id": "953643cc",
   "metadata": {},
   "source": [
    "3. What is the way to include backslash characters in a string?"
   ]
  },
  {
   "cell_type": "code",
   "execution_count": 4,
   "id": "5a28d6ef",
   "metadata": {},
   "outputs": [
    {
     "name": "stdout",
     "output_type": "stream",
     "text": [
      "Good Morning \\ Everybody\n"
     ]
    }
   ],
   "source": [
    "b = \"Good Morning \\\\ Everybody\"\n",
    "print(b)"
   ]
  },
  {
   "cell_type": "markdown",
   "id": "0f9acacc",
   "metadata": {},
   "source": [
    "4. The string \"Howl's Moving Castle\" is a correct value.  <br> Why isn't the single quote character in the word Howl's not escaped a problem?"
   ]
  },
  {
   "cell_type": "code",
   "execution_count": 5,
   "id": "8716e320",
   "metadata": {},
   "outputs": [
    {
     "name": "stdout",
     "output_type": "stream",
     "text": [
      "Howl's Moving Castle\n"
     ]
    }
   ],
   "source": [
    "s = \"Howl's Moving Castle\"\n",
    "print(s)"
   ]
  },
  {
   "cell_type": "markdown",
   "id": "ef22492f",
   "metadata": {},
   "source": [
    "It is not a Single Quote Character because if we make use of Single Quote Character it Pyhton will not understand from where the string is been started and where it is end"
   ]
  },
  {
   "cell_type": "markdown",
   "id": "85b5efe3",
   "metadata": {},
   "source": [
    "5. How do you write a string of newlines if you don't want to use the n character?"
   ]
  },
  {
   "cell_type": "code",
   "execution_count": 7,
   "id": "c8cabd95",
   "metadata": {},
   "outputs": [
    {
     "name": "stdout",
     "output_type": "stream",
     "text": [
      "omdfs\n",
      "dfsdfdsf\n",
      "sdfsfd\n",
      "sfsdfd\n"
     ]
    }
   ],
   "source": [
    "Multiline strings allow us to use newlines in strings without the \\n escape character.\n",
    "d = \"\"\"omdfs\n",
    "dfsdfdsf\n",
    "sdfsfd\n",
    "sfsdfd\"\"\"\n",
    "\n",
    "print(d)"
   ]
  },
  {
   "cell_type": "markdown",
   "id": "7ffc51fa",
   "metadata": {},
   "source": [
    "6. What are the values of the given expressions?<br>\n",
    "'Hello, world!'[1]<br>\n",
    "'Hello, world!'[0:5]<br>\n",
    "'Hello, world!'[:5]<br>\n",
    "'Hello, world!'[3:]\n"
   ]
  },
  {
   "cell_type": "code",
   "execution_count": 9,
   "id": "1ec42ea3",
   "metadata": {},
   "outputs": [
    {
     "name": "stdout",
     "output_type": "stream",
     "text": [
      "e\n"
     ]
    }
   ],
   "source": [
    "print('Hello, world!'[1])"
   ]
  },
  {
   "cell_type": "code",
   "execution_count": 10,
   "id": "971f1451",
   "metadata": {},
   "outputs": [
    {
     "name": "stdout",
     "output_type": "stream",
     "text": [
      "Hello\n"
     ]
    }
   ],
   "source": [
    "print('Hello, world!'[0:5])"
   ]
  },
  {
   "cell_type": "code",
   "execution_count": 11,
   "id": "21f196b7",
   "metadata": {},
   "outputs": [
    {
     "name": "stdout",
     "output_type": "stream",
     "text": [
      "Hello\n"
     ]
    }
   ],
   "source": [
    "print('Hello, world!'[0:5])"
   ]
  },
  {
   "cell_type": "code",
   "execution_count": 12,
   "id": "7deb3284",
   "metadata": {},
   "outputs": [
    {
     "name": "stdout",
     "output_type": "stream",
     "text": [
      "lo, world!\n"
     ]
    }
   ],
   "source": [
    "print('Hello, world!'[3:])"
   ]
  },
  {
   "cell_type": "markdown",
   "id": "3908a224",
   "metadata": {},
   "source": [
    "7. What are the values of the following expressions?\n",
    "'Hello'.upper()\n",
    "'Hello'.upper().isupper()\n",
    "'Hello'.upper().lower()\n"
   ]
  },
  {
   "cell_type": "code",
   "execution_count": 16,
   "id": "ef16cc26",
   "metadata": {},
   "outputs": [
    {
     "data": {
      "text/plain": [
       "'HELLO'"
      ]
     },
     "execution_count": 16,
     "metadata": {},
     "output_type": "execute_result"
    }
   ],
   "source": [
    "'Hello'.upper()\n",
    "\n"
   ]
  },
  {
   "cell_type": "code",
   "execution_count": 14,
   "id": "32184984",
   "metadata": {},
   "outputs": [
    {
     "data": {
      "text/plain": [
       "True"
      ]
     },
     "execution_count": 14,
     "metadata": {},
     "output_type": "execute_result"
    }
   ],
   "source": [
    "'Hello'.upper().isupper()"
   ]
  },
  {
   "cell_type": "code",
   "execution_count": 15,
   "id": "3e44ef43",
   "metadata": {},
   "outputs": [
    {
     "data": {
      "text/plain": [
       "'hello'"
      ]
     },
     "execution_count": 15,
     "metadata": {},
     "output_type": "execute_result"
    }
   ],
   "source": [
    "'Hello'.upper().lower()"
   ]
  },
  {
   "cell_type": "markdown",
   "id": "ec36b1c1",
   "metadata": {},
   "source": [
    "8. What are the values of the following expressions?<br>\n",
    "'Remember, remember, the fifth of July.'.split()<br>\n",
    "'-'.join('There can only one.'.split())\n"
   ]
  },
  {
   "cell_type": "code",
   "execution_count": 17,
   "id": "5dd11582",
   "metadata": {},
   "outputs": [
    {
     "name": "stdout",
     "output_type": "stream",
     "text": [
      "['Remember,', 'remember,', 'the', 'fifth', 'of', 'July.']\n"
     ]
    }
   ],
   "source": [
    "print('Remember, remember, the fifth of July.'.split())"
   ]
  },
  {
   "cell_type": "code",
   "execution_count": 18,
   "id": "eaafd3c6",
   "metadata": {},
   "outputs": [
    {
     "name": "stdout",
     "output_type": "stream",
     "text": [
      "There-can-only-one.\n"
     ]
    }
   ],
   "source": [
    "print('-'.join('There can only one.'.split()))"
   ]
  },
  {
   "cell_type": "markdown",
   "id": "2302c3bb",
   "metadata": {},
   "source": [
    "9. What are the methods for right-justifying, left-justifying, and centering a string?"
   ]
  },
  {
   "cell_type": "code",
   "execution_count": 19,
   "id": "14d5e309",
   "metadata": {},
   "outputs": [],
   "source": [
    "a = \"       Omkar Pomendkar     \"\""
   ]
  },
  {
   "cell_type": "markdown",
   "id": "3c797462",
   "metadata": {},
   "source": [
    "The rjust(), ljust(), and center() string methods, respectively are the methods for right-justifying, left-justifying, and centering a string"
   ]
  },
  {
   "cell_type": "markdown",
   "id": "ca4d7b09",
   "metadata": {},
   "source": [
    "10. What is the best way to remove whitespace characters from the start or end?"
   ]
  },
  {
   "cell_type": "code",
   "execution_count": null,
   "id": "aad2f960",
   "metadata": {},
   "outputs": [],
   "source": [
    "a."
   ]
  }
 ],
 "metadata": {
  "kernelspec": {
   "display_name": "Python 3 (ipykernel)",
   "language": "python",
   "name": "python3"
  },
  "language_info": {
   "codemirror_mode": {
    "name": "ipython",
    "version": 3
   },
   "file_extension": ".py",
   "mimetype": "text/x-python",
   "name": "python",
   "nbconvert_exporter": "python",
   "pygments_lexer": "ipython3",
   "version": "3.9.13"
  }
 },
 "nbformat": 4,
 "nbformat_minor": 5
}
