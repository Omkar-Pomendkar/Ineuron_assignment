{
 "cells": [
  {
   "cell_type": "markdown",
   "id": "ffc44f0f",
   "metadata": {},
   "source": [
    "## 1. Is the Python Standard Library included with PyInputPlus?"
   ]
  },
  {
   "cell_type": "markdown",
   "id": "d8a9b948",
   "metadata": {},
   "source": [
    "**No,** PyInputPlus is not a part of Python Standard Library, it needs to be installed explicitly using the command !pip install PyInputPlus <br>\n",
    "PyInputPlus is a Python module used for taking inputs with additional validation features.<br> **PyInputPlus will keep asking the user for text until they enter valid input.**"
   ]
  },
  {
   "cell_type": "markdown",
   "id": "c6878f83",
   "metadata": {},
   "source": [
    "## 2. Why is PyInputPlus commonly imported with import pyinputplus as pypi?"
   ]
  },
  {
   "cell_type": "markdown",
   "id": "7ca3636d",
   "metadata": {},
   "source": [
    "You can import the module with import pyinputplus as pyip so that you can enter a shorter name when calling the module's functions.\n",
    "<br> **This is called Aliasing**"
   ]
  },
  {
   "cell_type": "markdown",
   "id": "9deec6d2",
   "metadata": {},
   "source": [
    "## 3. How do you distinguish between inputInt() and inputFloat()?"
   ]
  },
  {
   "cell_type": "markdown",
   "id": "57fdaee1",
   "metadata": {},
   "source": [
    "**inputInt() :** Accepts an integer value. This also takes additional parameters ‘min’, ‘max’, ‘greaterThan’ and ‘lessThan’  for bounds. Returns an int.<br>\n",
    "**inputFloat() :** Accepts a floating-point numeric value. Also takes additional ‘min’, ‘max’, ‘greaterThan’ and ‘lessThan’  parameters. Returns a float."
   ]
  },
  {
   "cell_type": "markdown",
   "id": "51c45c91",
   "metadata": {},
   "source": [
    "### 4. Using PyInputPlus, how do you ensure that the user enters a whole number between 0 and 99?"
   ]
  },
  {
   "cell_type": "markdown",
   "id": "8b4c1f33",
   "metadata": {},
   "source": [
    "**PyInputPlus** module provides a function called as **inputInt()** which only returns only integer values. inorder to restrict the input between 0 and 99"
   ]
  },
  {
   "cell_type": "markdown",
   "id": "39630a34",
   "metadata": {},
   "source": [
    "import pyinputplus as pyip,<br>\n",
    "wholenumber = pyip.inputInt(prompt='Enter a number: ', min=0, max=100)<br>\n",
    "print(wholenumber)"
   ]
  },
  {
   "cell_type": "markdown",
   "id": "87509576",
   "metadata": {},
   "source": [
    "### 5. What is transferred to the keyword arguments allowRegexes and blockRegexes?"
   ]
  },
  {
   "cell_type": "markdown",
   "id": "b3b5cf51",
   "metadata": {},
   "source": [
    "we can use allowRegexes and blockRegexes keyword arguments to take list of regular expression strings to determine what the pyinputplus function will reject or accept valid input."
   ]
  },
  {
   "cell_type": "markdown",
   "id": "5122e2f7",
   "metadata": {},
   "source": [
    "### 6. If a blank input is entered three times, what does inputStr(limit=3) do?"
   ]
  },
  {
   "cell_type": "markdown",
   "id": "e86d9f6a",
   "metadata": {},
   "source": [
    "The statement **inputStr(limit=3)** will throw two exceptions **ValidationException and RetryLimitException**. The first exception is thrown because blank values are not allowed by inputStr() function by default. it we want to consider blank values as valid input, we have to set blank=True.<br>\n",
    "\n",
    "The second exception is occured because we have reached the max limit we have specified by using limit parameter. inorder to avoid this exception we can use default parameter to return a default value when max limit is reached."
   ]
  },
  {
   "cell_type": "markdown",
   "id": "8cc532a6",
   "metadata": {},
   "source": [
    "### 7. If blank input is entered three times, what does inputStr(limit=3, default='hello') do?"
   ]
  },
  {
   "cell_type": "markdown",
   "id": "a8688955",
   "metadata": {},
   "source": [
    "Since the default parameter is set to hello. after blank input is entered three times instead of raising RetryLimitException exception. the function will return hello as response to the calling function"
   ]
  },
  {
   "cell_type": "code",
   "execution_count": null,
   "id": "4aeabd21",
   "metadata": {},
   "outputs": [],
   "source": []
  }
 ],
 "metadata": {
  "kernelspec": {
   "display_name": "Python 3 (ipykernel)",
   "language": "python",
   "name": "python3"
  },
  "language_info": {
   "codemirror_mode": {
    "name": "ipython",
    "version": 3
   },
   "file_extension": ".py",
   "mimetype": "text/x-python",
   "name": "python",
   "nbconvert_exporter": "python",
   "pygments_lexer": "ipython3",
   "version": "3.9.13"
  }
 },
 "nbformat": 4,
 "nbformat_minor": 5
}
