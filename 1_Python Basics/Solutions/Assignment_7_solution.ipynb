{
 "cells": [
  {
   "cell_type": "markdown",
   "id": "bd2bd6e1",
   "metadata": {},
   "source": [
    "1. What is the name of the feature responsible for generating Regex objects?"
   ]
  },
  {
   "cell_type": "markdown",
   "id": "2625cee0",
   "metadata": {},
   "source": [
    "The name of the feature responsible for generating Regex objects is **re.compile()** function which returns Regex objects."
   ]
  },
  {
   "cell_type": "code",
   "execution_count": 3,
   "id": "5ae823e7",
   "metadata": {},
   "outputs": [
    {
     "name": "stdout",
     "output_type": "stream",
     "text": [
      "re.compile('Show some random Pattern')\n",
      "<class 're.Pattern'>\n"
     ]
    }
   ],
   "source": [
    "import re\n",
    "a = re.compile(\"Show some random Pattern\")\n",
    "print(a)\n",
    "print(type(a))"
   ]
  },
  {
   "cell_type": "markdown",
   "id": "8cc39539",
   "metadata": {},
   "source": [
    "2. Why do raw strings often appear in Regex objects?"
   ]
  },
  {
   "cell_type": "markdown",
   "id": "19518d36",
   "metadata": {},
   "source": [
    "When working with strings that include a lot of backslashes, such as regular expressions or directory paths on Windows, raw strings are helpful so that nothing get Escaped Eg : (r, \"Hello my team members \\n\")"
   ]
  },
  {
   "cell_type": "markdown",
   "id": "d99ff508",
   "metadata": {},
   "source": [
    "3. What is the return value of the search() method?"
   ]
  },
  {
   "cell_type": "markdown",
   "id": "2392f0d8",
   "metadata": {},
   "source": [
    "The return value of re.search(pattern,string) method is a match object if pattern  is present else return **None** Type"
   ]
  },
  {
   "cell_type": "code",
   "execution_count": 6,
   "id": "2295c2da",
   "metadata": {},
   "outputs": [
    {
     "name": "stdout",
     "output_type": "stream",
     "text": [
      "Result is  <re.Match object; span=(0, 7), match='Ineuron'>\n",
      "Result is  None\n"
     ]
    }
   ],
   "source": [
    "import re\n",
    "txt = \"Ineuron is the best platform to learn Data Science\"\n",
    "match = re.search(\"Ineuron\",txt)\n",
    "print(\"Result is \",match)\n",
    "\n",
    "txt1 = \"Ineuron is the best platform to learn Data Science\"\n",
    "match1 = re.search(\"X-mas\",txt1)\n",
    "print(\"Result is \",match1)"
   ]
  },
  {
   "cell_type": "markdown",
   "id": "8b60f1ca",
   "metadata": {},
   "source": [
    "4. From a Match item, how do you get the actual strings that match the pattern?"
   ]
  },
  {
   "cell_type": "markdown",
   "id": "8aac6d06",
   "metadata": {},
   "source": [
    "We can make use of group function to match the exact String"
   ]
  },
  {
   "cell_type": "code",
   "execution_count": 13,
   "id": "5f1fe426",
   "metadata": {},
   "outputs": [
    {
     "name": "stdout",
     "output_type": "stream",
     "text": [
      "Result is  Data\n"
     ]
    }
   ],
   "source": [
    "import re\n",
    "txt = \"Ineuron is the best platform to learn Data Science\"\n",
    "match = re.search(\"data\",txt ,flags=re.IGNORECASE)\n",
    "print(\"Result is \",match.group())"
   ]
  },
  {
   "cell_type": "markdown",
   "id": "2d937c96",
   "metadata": {},
   "source": [
    "5. In the regex which created from the r'(\\d\\d\\d)-(\\d\\d\\d-\\d\\d\\d\\d)', what does group zero cover? Group 2? Group 1?"
   ]
  },
  {
   "cell_type": "markdown",
   "id": "28940d44",
   "metadata": {},
   "source": [
    "**\\d\tReturns a match where the string contains digits (numbers from 0-9)**\n",
    "\n",
    "In Regex r'(\\d\\d\\d)-(\\d\\d\\d-\\d\\d\\d\\d)'<br>\n",
    "group zero will contain all match = (\\d\\d\\d)-(\\d\\d\\d-\\d\\d\\d\\d)<br>\n",
    "group one will contain first group  = (\\d\\d\\d)<br>\n",
    "group two will contain seconf Group = (\\d\\d\\d-\\d\\d\\d\\d)"
   ]
  },
  {
   "cell_type": "code",
   "execution_count": 20,
   "id": "9c21d622",
   "metadata": {},
   "outputs": [
    {
     "name": "stdout",
     "output_type": "stream",
     "text": [
      "('898', '895-8989')\n",
      "898-895-8989\n",
      "898\n",
      "895-8989\n"
     ]
    }
   ],
   "source": [
    "import re \n",
    "phonenumber = re.compile(r'(\\d\\d\\d)-(\\d\\d\\d-\\d\\d\\d\\d)')\n",
    "mob = phonenumber.search('My number is 898-895-8989')\n",
    "print(mob.groups()) # It prints all the group in form of Tuples\n",
    "print(mob.group()) # Returns fully matched Strings\n",
    "print(mob.group(1)) # Returns the first group\n",
    "print(mob.group(2)) # Returns the Second Group"
   ]
  },
  {
   "cell_type": "markdown",
   "id": "7605c289",
   "metadata": {},
   "source": [
    "6. In standard expression syntax, parentheses and intervals have distinct meanings. How can you tell a regex that you want it to fit real parentheses and periods?"
   ]
  },
  {
   "cell_type": "markdown",
   "id": "f282b12f",
   "metadata": {},
   "source": [
    "The **\\.**  **\\(** and **\\)** escape characters in the raw string passed to re.compile() will match actual parenthesis characters."
   ]
  },
  {
   "cell_type": "code",
   "execution_count": 21,
   "id": "e2ef9a85",
   "metadata": {},
   "outputs": [
    {
     "name": "stdout",
     "output_type": "stream",
     "text": [
      "(415) 555-4242\n"
     ]
    }
   ],
   "source": [
    "import re\n",
    "phonenumber = re.compile(r'(\\(\\d\\d\\d\\)) (\\d\\d\\d-\\d\\d\\d\\d)')\n",
    "mo = phonenumber.search('My phone number is (415) 555-4242.')\n",
    "print(mo.group())\n"
   ]
  },
  {
   "cell_type": "markdown",
   "id": "9d1f392a",
   "metadata": {},
   "source": [
    "7. The findall() method returns a string list or a list of string tuples. What causes it to return one of the two options? <br>\n",
    "find all methods Returns a list containing all the Matches"
   ]
  },
  {
   "cell_type": "code",
   "execution_count": 25,
   "id": "7d76394c",
   "metadata": {},
   "outputs": [
    {
     "name": "stdout",
     "output_type": "stream",
     "text": [
      "[('(415)', '555-4242'), ('(415)', '555-4242')]\n"
     ]
    }
   ],
   "source": [
    "import re\n",
    "phonenumber = re.compile(r'(\\(\\d\\d\\d\\)) (\\d\\d\\d-\\d\\d\\d\\d)')\n",
    "mo = phonenumber.findall('My phone number is (415) 555-4242      (415) 555-4242.')\n",
    "print(mo)"
   ]
  },
  {
   "cell_type": "markdown",
   "id": "adb3c9b0",
   "metadata": {},
   "source": [
    "8. In standard expressions, what does the | character mean?"
   ]
  },
  {
   "cell_type": "markdown",
   "id": "e92541b8",
   "metadata": {},
   "source": [
    "In Standard Expressions | means OR operator."
   ]
  },
  {
   "cell_type": "markdown",
   "id": "21dd9c48",
   "metadata": {},
   "source": [
    "9. In regular expressions, what does the ? character stand for?"
   ]
  },
  {
   "cell_type": "markdown",
   "id": "b3c38449",
   "metadata": {},
   "source": [
    "In regular Expressions, ? characters represents zero or one match of the preceeding group."
   ]
  },
  {
   "cell_type": "code",
   "execution_count": 30,
   "id": "d7283904",
   "metadata": {},
   "outputs": [
    {
     "name": "stdout",
     "output_type": "stream",
     "text": [
      "<re.Match object; span=(0, 6), match='Batman'>\n",
      "<re.Match object; span=(0, 8), match='Batwoman'>\n"
     ]
    }
   ],
   "source": [
    "import re\n",
    "match = re.search(\"Bat(wo)?man\",\"Batman returns\")\n",
    "print(match)\n",
    "match_2 = re.search(\"Bat(wo)?man\",\"Batwoman returns\")\n",
    "print(match_2)"
   ]
  },
  {
   "cell_type": "markdown",
   "id": "92fc803c",
   "metadata": {},
   "source": [
    "10.In regular expressions, what is the difference between the + and * characters?"
   ]
  },
  {
   "cell_type": "markdown",
   "id": "c2403d0e",
   "metadata": {},
   "source": [
    "In Regular Expressions, * Represents Zero ore more occurances of the preceeding group, whereas + represents one or more occurances of the preceeding group."
   ]
  },
  {
   "cell_type": "code",
   "execution_count": 31,
   "id": "5b6d072e",
   "metadata": {},
   "outputs": [
    {
     "name": "stdout",
     "output_type": "stream",
     "text": [
      "<re.Match object; span=(0, 6), match='Batman'>\n",
      "None\n"
     ]
    }
   ],
   "source": [
    "import re\n",
    "match_1 = re.search(\"Bat(wo)*man\",\"Batman returns\")\n",
    "print(match_1)\n",
    "match_2 = re.search(\"Bat(wo)+man\",\"Batman returns\")\n",
    "print(match_2)"
   ]
  },
  {
   "cell_type": "markdown",
   "id": "65c639d4",
   "metadata": {},
   "source": [
    "11. What is the difference between {4} and {4,5} in regular expression?"
   ]
  },
  {
   "cell_type": "markdown",
   "id": "e0bf457b",
   "metadata": {},
   "source": [
    "{4} means that its preceeding group should repeat 4 times. where as {4,5} means that its preceeding group should repeat mininum 4 times and maximum 5 times"
   ]
  },
  {
   "cell_type": "code",
   "execution_count": 32,
   "id": "2743f875",
   "metadata": {},
   "outputs": [
    {
     "name": "stdout",
     "output_type": "stream",
     "text": [
      "HaHaHa\n",
      "None\n"
     ]
    }
   ],
   "source": [
    "import re\n",
    "haRegex = re.compile(r'(Ha){3}')\n",
    "mo1 = haRegex.search('HaHaHa')\n",
    "mo2 = haRegex.search('Ha')\n",
    "print(mo1.group())\n",
    "print(mo2)"
   ]
  },
  {
   "cell_type": "markdown",
   "id": "86a9b212",
   "metadata": {},
   "source": [
    "12. What do you mean by the \\d, \\w, and \\s shorthand character classes signify in regular expressions?"
   ]
  },
  {
   "cell_type": "markdown",
   "id": "a73cd01b",
   "metadata": {},
   "source": [
    "\\D\tReturns a match where the string DOES NOT contain digits <br>\n",
    "\\w\tReturns a match where the string contains any word characters (characters from a to Z, digits from 0-9, and the underscore _ character) <br>\n",
    "\\s\tReturns a match where the string contains a white space character"
   ]
  },
  {
   "cell_type": "markdown",
   "id": "9c541527",
   "metadata": {},
   "source": [
    "13. What do means by \\D, \\W, and \\S shorthand character classes signify in regular expressions?"
   ]
  },
  {
   "cell_type": "markdown",
   "id": "c16c302a",
   "metadata": {},
   "source": [
    "\\D, \\W and \\S are special sequences in regular expresssions in python:<br>\n",
    "\n",
    "\\W – Matches any non-alphanumeric character equivalent to [^a-zA-Z0-9_]<br>\n",
    "\\D – Matches any non-digit character, this is equivalent to the set class [^0-9]<br>\n",
    "\\S – Matches any non-whitespace character"
   ]
  },
  {
   "cell_type": "markdown",
   "id": "6734c985",
   "metadata": {},
   "source": [
    "14. What is the difference between .*? and .*?"
   ]
  },
  {
   "cell_type": "markdown",
   "id": "1ff0cc26",
   "metadata": {},
   "source": [
    ".* is a Greedy mode, which returns the longest string that meets the condition.<br> Whereas .*? is a non greedy mode which returns the shortest string that meets the condition."
   ]
  },
  {
   "cell_type": "markdown",
   "id": "a87b3b8b",
   "metadata": {},
   "source": [
    "15. What is the syntax for matching both numbers and lowercase letters with a character class?"
   ]
  },
  {
   "cell_type": "markdown",
   "id": "8eb53ce7",
   "metadata": {},
   "source": [
    "The Syntax is [a-z0-9] or [0-9a-z]"
   ]
  },
  {
   "cell_type": "markdown",
   "id": "0ae4cdec",
   "metadata": {},
   "source": [
    "16. What is the procedure for making a normal expression in regax case insensitive?"
   ]
  },
  {
   "cell_type": "markdown",
   "id": "4125ee7d",
   "metadata": {},
   "source": [
    "We can pass re.IGNORECASE as a flag to make a noraml expression case insensitive"
   ]
  },
  {
   "cell_type": "markdown",
   "id": "6283d608",
   "metadata": {},
   "source": [
    "17. What does the . character normally match? What does it match if re.DOTALL is passed as 2nd argument in re.compile()?"
   ]
  },
  {
   "cell_type": "markdown",
   "id": "4d246cec",
   "metadata": {},
   "source": [
    "Dot . character matches everything in input except newline character .. By passing re.DOTALL as a flag to re.compile(), you can make the dot character match all characters, including the newline character."
   ]
  },
  {
   "cell_type": "markdown",
   "id": "962e4130",
   "metadata": {},
   "source": [
    "18. If numReg = re.compile(r'\\d+'), what will numRegex.sub('X', '11 drummers, 10 pipers, five rings, 4 hen') return?"
   ]
  },
  {
   "cell_type": "markdown",
   "id": "8045b23e",
   "metadata": {},
   "source": [
    "The Ouput will be 'X drummers, X pipers, five rings, X hen'"
   ]
  },
  {
   "cell_type": "code",
   "execution_count": 38,
   "id": "09093020",
   "metadata": {},
   "outputs": [
    {
     "data": {
      "text/plain": [
       "'X drummers, X pipers, five rings, X hen'"
      ]
     },
     "execution_count": 38,
     "metadata": {},
     "output_type": "execute_result"
    }
   ],
   "source": [
    "import re\n",
    "numReg = re.compile(r'\\d+')\n",
    "numReg.sub('X', '11 drummers, 10 pipers, five rings, 4 hen')"
   ]
  },
  {
   "cell_type": "markdown",
   "id": "eea34eea",
   "metadata": {},
   "source": [
    "19. What does passing re.VERBOSE as the 2nd argument to re.compile() allow to do?"
   ]
  },
  {
   "cell_type": "markdown",
   "id": "92f2ecfb",
   "metadata": {},
   "source": [
    "This flag allows you to write regular expressions that look nicer and are more readable by allowing you to visually separate logical sections of the pattern and add comments."
   ]
  },
  {
   "cell_type": "code",
   "execution_count": 40,
   "id": "7dd32df3",
   "metadata": {},
   "outputs": [],
   "source": [
    "# Without Using VERBOSE\n",
    "regex_email = re.compile(r'^([a-z0-9_\\.-]+)@([0-9a-z\\.-]+)\\.([a-z\\.]{2, 6})$', re.IGNORECASE)\n",
    "\n",
    "# Using VERBOSE\n",
    "regex_email = re.compile(r\"\"\"\n",
    "                            ^([a-z0-9_\\.-]+)              # local Part like username\n",
    "                            @                             # single @ sign \n",
    "                            ([0-9a-z\\.-]+)                # Domain name like google\n",
    "                            \\.                            # single Dot .\n",
    "                            ([a-z]{2,6})$                 # Top level Domain  like com/in/org\n",
    "                         \"\"\",re.VERBOSE | re.IGNORECASE)   "
   ]
  },
  {
   "cell_type": "markdown",
   "id": "4774aafe",
   "metadata": {},
   "source": [
    "20. How would you write a regex that match a number with comma for every three digits? It must match the given following:"
   ]
  },
  {
   "cell_type": "markdown",
   "id": "c2bd3ba5",
   "metadata": {},
   "source": [
    "'42','1,234', '6,368,745'but not the following: '12,34,567' (which has only two digits between the commas) '1234' (which lacks commas)"
   ]
  },
  {
   "cell_type": "code",
   "execution_count": 42,
   "id": "8788ae64",
   "metadata": {},
   "outputs": [
    {
     "name": "stdout",
     "output_type": "stream",
     "text": [
      "Output: 42 -> <re.Match object; span=(0, 2), match='42'>\n",
      "Output: 1,234 -> <re.Match object; span=(0, 5), match='1,234'>\n",
      "Output: 6,368,745 -> <re.Match object; span=(0, 9), match='6,368,745'>\n",
      "Output: 12,34,567 -> None\n",
      "Output: 1234 -> None\n"
     ]
    }
   ],
   "source": [
    "import re\n",
    "pattern = r'^\\d{1,3}(,\\d{3})*$'\n",
    "pagex = re.compile(pattern)\n",
    "for item in ['42','1,234', '6,368,745','12,34,567','1234']:\n",
    "    print('Output:',item, '->', pagex.search(item))"
   ]
  },
  {
   "cell_type": "markdown",
   "id": "02c12bde",
   "metadata": {},
   "source": [
    "21. How would you write a regex that matches the full name of someone whose last name is Watanabe? You can assume that the first name that comes before it will always be one word that begins with a capital letter. The regex must match the following:"
   ]
  },
  {
   "cell_type": "markdown",
   "id": "b72d535f",
   "metadata": {},
   "source": [
    "'Haruto Watanabe'<br>\n",
    "'Alice Watanabe'<br>\n",
    "'RoboCop Watanabe'<br>\n",
    "\n",
    "but not the following: <br>\n",
    "\n",
    "'haruto Watanabe' (where the first name is not capitalized)<br>\n",
    "'Mr. Watanabe' (where the preceding word has a nonletter character)<br>\n",
    "'Watanabe' (which has no first name)<br>\n",
    "'Haruto watanabe' (where Watanabe is not capitalized)<br>"
   ]
  },
  {
   "cell_type": "markdown",
   "id": "4dcde63f",
   "metadata": {},
   "source": [
    "**pattern = r'[A-Z]{1}[a-z]*\\sWatanabe'**"
   ]
  },
  {
   "cell_type": "code",
   "execution_count": 44,
   "id": "ba15d8e6",
   "metadata": {},
   "outputs": [
    {
     "name": "stdout",
     "output_type": "stream",
     "text": [
      "Output:  Haruto Watanabe -> <re.Match object; span=(0, 15), match='Haruto Watanabe'>\n",
      "Output:  Alice Watanabe -> <re.Match object; span=(0, 14), match='Alice Watanabe'>\n",
      "Output:  RoboCop Watanabe -> <re.Match object; span=(4, 16), match='Cop Watanabe'>\n",
      "Output:  haruto Watanabe -> None\n",
      "Output:  Mr. Watanabe -> None\n",
      "Output:  Watanabe -> None\n",
      "Output:  Haruto watanabe -> None\n"
     ]
    }
   ],
   "source": [
    "import re\n",
    "pattern = r'[A-Z]{1}[a-z]*\\sWatanabe'\n",
    "namex = re.compile(pattern)\n",
    "for name in ['Haruto Watanabe','Alice Watanabe','RoboCop Watanabe','haruto Watanabe','Mr. Watanabe','Watanabe','Haruto watanabe']:\n",
    "    print('Output: ',name,'->',namex.search(name))"
   ]
  },
  {
   "cell_type": "markdown",
   "id": "7a693315",
   "metadata": {},
   "source": [
    "22. How would you write a regex that matches a sentence where the first word is either Alice, Bob,or Carol; the second word is either eats, pets, or throws; the third word is apples, cats, or baseballs; and the sentence ends with a period? This regex should be case-insensitive. It must match the following"
   ]
  },
  {
   "cell_type": "markdown",
   "id": "ea76f971",
   "metadata": {},
   "source": [
    "'Alice eats apples.'<br>\n",
    "'Bob pets cats.'<br>\n",
    "'Carol throws baseballs.'<br>\n",
    "'Alice throws Apples.'<br>\n",
    "'BOB EATS CATS.'<br>\n",
    "but not the following:<br>\n",
    "'RoboCop eats apples.'<br>\n",
    "'ALICE THROWS FOOTBALLS.'<br>\n",
    "'Carol eats 7 cats.'\n",
    "\n"
   ]
  },
  {
   "cell_type": "markdown",
   "id": "7bb0918a",
   "metadata": {},
   "source": [
    "**pattern = r'(Alice|Bob|Carol)\\s(eats|pets|throws)\\s(apples|cats|baseballs)\\.'**"
   ]
  },
  {
   "cell_type": "code",
   "execution_count": 46,
   "id": "a6107016",
   "metadata": {},
   "outputs": [
    {
     "name": "stdout",
     "output_type": "stream",
     "text": [
      "Output:  Alice eats apples. -> <re.Match object; span=(0, 18), match='Alice eats apples.'>\n",
      "Output:  Bob pets cats. -> <re.Match object; span=(0, 14), match='Bob pets cats.'>\n",
      "Output:  Carol throws baseballs. -> <re.Match object; span=(0, 23), match='Carol throws baseballs.'>\n",
      "Output:  Alice throws Apples. -> <re.Match object; span=(0, 20), match='Alice throws Apples.'>\n",
      "Output:  BOB EATS CATS. -> <re.Match object; span=(0, 14), match='BOB EATS CATS.'>\n",
      "Output:  RoboCop eats apples. -> None\n",
      "Output:  ALICE THROWS FOOTBALLS. -> None\n",
      "Output:  Carol eats 7 cats. -> None\n"
     ]
    }
   ],
   "source": [
    "import re\n",
    "pattern = r'(Alice|Bob|Carol)\\s(eats|pets|throws)\\s(apples|cats|baseballs)\\.'\n",
    "casex = re.compile(pattern,re.IGNORECASE)\n",
    "for item in ['Alice eats apples.','Bob pets cats.','Carol throws baseballs.','Alice throws Apples.','BOB EATS CATS.','RoboCop eats apples.'\n",
    ",'ALICE THROWS FOOTBALLS.','Carol eats 7 cats.']:\n",
    "    print('Output: ',item,'->',casex.search(item))"
   ]
  },
  {
   "cell_type": "code",
   "execution_count": null,
   "id": "b082978e",
   "metadata": {},
   "outputs": [],
   "source": [
    "\"\""
   ]
  }
 ],
 "metadata": {
  "kernelspec": {
   "display_name": "Python 3 (ipykernel)",
   "language": "python",
   "name": "python3"
  },
  "language_info": {
   "codemirror_mode": {
    "name": "ipython",
    "version": 3
   },
   "file_extension": ".py",
   "mimetype": "text/x-python",
   "name": "python",
   "nbconvert_exporter": "python",
   "pygments_lexer": "ipython3",
   "version": "3.9.13"
  }
 },
 "nbformat": 4,
 "nbformat_minor": 5
}
