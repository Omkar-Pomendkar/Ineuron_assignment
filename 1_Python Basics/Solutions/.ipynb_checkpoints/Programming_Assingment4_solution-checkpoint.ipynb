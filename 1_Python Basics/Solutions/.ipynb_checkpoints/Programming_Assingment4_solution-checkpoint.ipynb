{
 "cells": [
  {
   "cell_type": "markdown",
   "id": "8bf67c99",
   "metadata": {},
   "source": [
    "1.Write a Python Program to find the factorial of a number ?"
   ]
  },
  {
   "cell_type": "code",
   "execution_count": 3,
   "id": "f69e2a60",
   "metadata": {},
   "outputs": [
    {
     "name": "stdout",
     "output_type": "stream",
     "text": [
      "Enter a number: 3\n",
      "The Factorial of 3 is 6\n"
     ]
    }
   ],
   "source": [
    "# We are making use of Recursion over here\n",
    "def fact(num):\n",
    "    if num < 1:\n",
    "        return 1\n",
    "    else:\n",
    "        return num*fact(num-1)\n",
    "num = int(input('Enter a number: '))\n",
    "value = fact(num)\n",
    "# Assigning the the Value of Num which we had given to fing the factorial\n",
    "print(f'The Factorial of {num} is {value}')"
   ]
  },
  {
   "cell_type": "markdown",
   "id": "584f8839",
   "metadata": {},
   "source": [
    "2.Write a Python Program to display the multiplication table ?"
   ]
  },
  {
   "cell_type": "code",
   "execution_count": 5,
   "id": "8b010c3e",
   "metadata": {},
   "outputs": [
    {
     "name": "stdout",
     "output_type": "stream",
     "text": [
      "Enter a number: 5\n",
      "Enter no of entries: 20\n",
      "5 X 1 = 5\n",
      "5 X 2 = 10\n",
      "5 X 3 = 15\n",
      "5 X 4 = 20\n",
      "5 X 5 = 25\n",
      "5 X 6 = 30\n",
      "5 X 7 = 35\n",
      "5 X 8 = 40\n",
      "5 X 9 = 45\n",
      "5 X 10 = 50\n",
      "5 X 11 = 55\n",
      "5 X 12 = 60\n",
      "5 X 13 = 65\n",
      "5 X 14 = 70\n",
      "5 X 15 = 75\n",
      "5 X 16 = 80\n",
      "5 X 17 = 85\n",
      "5 X 18 = 90\n",
      "5 X 19 = 95\n",
      "5 X 20 = 100\n"
     ]
    }
   ],
   "source": [
    "def table(base,entries):\n",
    "    for x in range(1,entries+1):\n",
    "        print(f'{base} X {x} = {base*x}')\n",
    "\n",
    "num = int(input('Enter a number: '))\n",
    "values = int(input('Enter no of entries: '))\n",
    "table(num,values)"
   ]
  },
  {
   "cell_type": "markdown",
   "id": "e5cbdc38",
   "metadata": {},
   "source": [
    "3.Write a Python Program to print the fibonacci sequence ?"
   ]
  },
  {
   "cell_type": "code",
   "execution_count": 8,
   "id": "7f3c688f",
   "metadata": {},
   "outputs": [
    {
     "name": "stdout",
     "output_type": "stream",
     "text": [
      "Enter the no of fibonacci sequences you want? 5\n",
      "The First 5 fibonacci series are:  [0, 1, 1, 2, 3]\n"
     ]
    }
   ],
   "source": [
    "count = int(input('Enter the no of fibonacci sequences you want? '))\n",
    "initial_list = [0,1]\n",
    "if count < 0:\n",
    "    print('Fibonacci Numbers are not available for Negative Numbers')\n",
    "elif count <= 2 and s_count >= 0:\n",
    "    print(initial_list)\n",
    "else:\n",
    "    for element in range(count):\n",
    "        if element >= 2:\n",
    "            initial_list.append(initial_list[element-1]+initial_list[element-2])\n",
    "    print(f'The First {count} fibonacci series are: ',initial_list)"
   ]
  },
  {
   "cell_type": "markdown",
   "id": "e599332a",
   "metadata": {},
   "source": [
    "4.Write a Python Program to check Armstrong number ?"
   ]
  },
  {
   "cell_type": "code",
   "execution_count": 10,
   "id": "c98332e5",
   "metadata": {},
   "outputs": [
    {
     "name": "stdout",
     "output_type": "stream",
     "text": [
      "Enter a number: 100\n",
      "100 is a Not Armstrong Number\n",
      "Enter a number: 153\n",
      "153 is a Armstrong Number\n"
     ]
    }
   ],
   "source": [
    "def checkArmstrongNumber():\n",
    "    num = input('Enter a number: ')\n",
    "    sum = 0\n",
    "    for char in range(len(num)):\n",
    "        sum = sum + pow(int(num[char]),3)\n",
    "    if sum == int(num):\n",
    "        print(f'{num} is a Armstrong Number')\n",
    "    else:\n",
    "        print(f'{num} is a Not Armstrong Number')\n",
    "\n",
    "for x in range(2):\n",
    "    checkArmstrongNumber()"
   ]
  },
  {
   "cell_type": "markdown",
   "id": "8b13c18c",
   "metadata": {},
   "source": [
    "5.Write a Python Program to Find Armstrong number in an interval ?"
   ]
  },
  {
   "cell_type": "code",
   "execution_count": 12,
   "id": "52210c3e",
   "metadata": {},
   "outputs": [
    {
     "name": "stdout",
     "output_type": "stream",
     "text": [
      "Enter the Start of the Interval: 100\n",
      "Enter the End of the Interval: 10000\n",
      "The Armstrong numbers between 100 and 10000 are [153, 370, 371, 407]\n"
     ]
    }
   ],
   "source": [
    "def checkArmstrongNumber(num, storage):\n",
    "    sum = 0\n",
    "    for char in range(len(num)):\n",
    "        sum = sum + pow(int(num[char]),3)\n",
    "    if sum == int(num):\n",
    "        storage.append(int(num))\n",
    "\n",
    "start_interval = int(input('Enter the Start of the Interval: '))\n",
    "end_interval = int(input('Enter the End of the Interval: '))\n",
    "list_of_armstrong = []\n",
    "\n",
    "if start_interval > end_interval:\n",
    "    print(\"Start Interval Cannot be Greater than End Interval\")\n",
    "else:\n",
    "    for number in range(start_interval,end_interval+1):\n",
    "        checkArmstrongNumber(str(number),list_of_armstrong)\n",
    "    print(f'The Armstrong numbers between {start_interval} and {end_interval} are {list_of_armstrong}')"
   ]
  },
  {
   "cell_type": "markdown",
   "id": "ed1b812c",
   "metadata": {},
   "source": [
    "6.Write a Python Program to Find the Sum of Natural Numbers?"
   ]
  },
  {
   "cell_type": "code",
   "execution_count": 13,
   "id": "a8813e49",
   "metadata": {},
   "outputs": [
    {
     "name": "stdout",
     "output_type": "stream",
     "text": [
      "Enter a number: 50\n",
      "Sum of 50 natural numbers is 1275.0\n"
     ]
    }
   ],
   "source": [
    "def sumOfNaturalNumbers(num):\n",
    "    sum = num*((num+1)/2)\n",
    "    print(f'Sum of {num} natural numbers is {sum}')\n",
    "    \n",
    "num = int(input('Enter a number: '))\n",
    "sumOfNaturalNumbers(num)"
   ]
  },
  {
   "cell_type": "code",
   "execution_count": null,
   "id": "1d5cdcb4",
   "metadata": {},
   "outputs": [],
   "source": []
  }
 ],
 "metadata": {
  "kernelspec": {
   "display_name": "Python 3 (ipykernel)",
   "language": "python",
   "name": "python3"
  },
  "language_info": {
   "codemirror_mode": {
    "name": "ipython",
    "version": 3
   },
   "file_extension": ".py",
   "mimetype": "text/x-python",
   "name": "python",
   "nbconvert_exporter": "python",
   "pygments_lexer": "ipython3",
   "version": "3.9.13"
  }
 },
 "nbformat": 4,
 "nbformat_minor": 5
}
