{
 "cells": [
  {
   "cell_type": "markdown",
   "id": "8f66fc27",
   "metadata": {},
   "source": [
    "## 1. In the below elements which of them are values or an expression? eg:- values can be integer or string and expressions will be mathematical operators.\n",
    "### *\t\t\n",
    "### 'hello'\t\n",
    "### -87.8\t\n",
    "### - \t\t\n",
    "### / \t\t\n",
    "### +\t     \n",
    "### 6 \t\t\n"
   ]
  },
  {
   "cell_type": "markdown",
   "id": "eb398069",
   "metadata": {},
   "source": [
    "# Answer\n",
    "#### *\t-\tExpression\n",
    "#### 'hello'\t\t-\tValues\t\n",
    "#### -87.8\t\t-\tValues\t\n",
    "#### - \t\t-\tExpression\n",
    "#### / \t\t-\tExpression\n",
    "#### +\t                     -\tExpression\n",
    "#### 6 \t\t-\tValues\n"
   ]
  },
  {
   "cell_type": "markdown",
   "id": "bfa5bc58",
   "metadata": {},
   "source": [
    "2. What is the difference between string and variable?"
   ]
  },
  {
   "cell_type": "markdown",
   "id": "55e0bf8f",
   "metadata": {},
   "source": [
    "### Variable - A Variable is a Container which holds the Value\n",
    "### String   - A String is a sequence of Character"
   ]
  },
  {
   "cell_type": "code",
   "execution_count": 5,
   "id": "900f4dde",
   "metadata": {},
   "outputs": [
    {
     "name": "stdout",
     "output_type": "stream",
     "text": [
      "10\n",
      "<class 'int'>\n",
      "Ineuron\n",
      "<class 'str'>\n"
     ]
    }
   ],
   "source": [
    "# Example\n",
    "a = 10\n",
    "b = \"Ineuron\"\n",
    "print(a)\n",
    "print(type(a))\n",
    "print(b)\n",
    "print(type(b))"
   ]
  },
  {
   "cell_type": "markdown",
   "id": "9f0bc02f",
   "metadata": {},
   "source": [
    "## 3. Describe three different data types."
   ]
  },
  {
   "cell_type": "markdown",
   "id": "88bee9c4",
   "metadata": {},
   "source": [
    "## There are different types of Datatypes such as\n",
    "Numeric data types: int, float, complex.\n",
    "String data types: str.\n",
    "Sequence types: list, tuple, range.\n",
    "Binary types: bytes, bytearray, memoryview.\n",
    "Mapping data type: dict.\n",
    "Boolean type: bool.\n",
    "Set data types: set, frozenset."
   ]
  },
  {
   "cell_type": "code",
   "execution_count": 7,
   "id": "28d0425c",
   "metadata": {},
   "outputs": [],
   "source": [
    "#Example\n",
    "a = 10\n",
    "b = 40.4\n",
    "c = 3+4j"
   ]
  },
  {
   "cell_type": "code",
   "execution_count": 8,
   "id": "8d25a4c5",
   "metadata": {},
   "outputs": [
    {
     "name": "stdout",
     "output_type": "stream",
     "text": [
      "10\n"
     ]
    }
   ],
   "source": [
    "print(a)"
   ]
  },
  {
   "cell_type": "code",
   "execution_count": 9,
   "id": "c400df24",
   "metadata": {},
   "outputs": [
    {
     "name": "stdout",
     "output_type": "stream",
     "text": [
      "40.4\n"
     ]
    }
   ],
   "source": [
    "print(b)"
   ]
  },
  {
   "cell_type": "code",
   "execution_count": 10,
   "id": "c57477c7",
   "metadata": {},
   "outputs": [
    {
     "name": "stdout",
     "output_type": "stream",
     "text": [
      "(3+4j)\n"
     ]
    }
   ],
   "source": [
    "print(c)"
   ]
  },
  {
   "cell_type": "code",
   "execution_count": 11,
   "id": "37623a98",
   "metadata": {},
   "outputs": [
    {
     "name": "stdout",
     "output_type": "stream",
     "text": [
      "<class 'int'>\n",
      "<class 'float'>\n",
      "<class 'complex'>\n"
     ]
    }
   ],
   "source": [
    "print(type(a))\n",
    "print(type(b))\n",
    "print(type(c))"
   ]
  },
  {
   "cell_type": "markdown",
   "id": "870fef50",
   "metadata": {},
   "source": [
    "## 4. What is an expression made up of? What do all expressions do?"
   ]
  },
  {
   "cell_type": "markdown",
   "id": "64baca6b",
   "metadata": {},
   "source": [
    "An Expression is a combination of Values, Variables and operators it helps us to assign the Value"
   ]
  },
  {
   "cell_type": "code",
   "execution_count": 12,
   "id": "59823db8",
   "metadata": {},
   "outputs": [],
   "source": [
    "# Example \n",
    "a = 30 + 20   # This is an Expression"
   ]
  },
  {
   "cell_type": "code",
   "execution_count": 13,
   "id": "ddb333d5",
   "metadata": {},
   "outputs": [
    {
     "name": "stdout",
     "output_type": "stream",
     "text": [
      "50\n"
     ]
    }
   ],
   "source": [
    "print(a)"
   ]
  },
  {
   "cell_type": "markdown",
   "id": "42824c77",
   "metadata": {},
   "source": [
    "## 5. This assignment statements, like spam = 10. What is the difference between an expression and a statement?"
   ]
  },
  {
   "cell_type": "markdown",
   "id": "1fc8fa0d",
   "metadata": {},
   "source": [
    "#### Over here spam = 10 is a Statement because we are assigning the Value to a Variable\n",
    "#### Statements \n",
    "#### •\tA Statement is used for creating Variables\n",
    "#### •\tWe don’t expect any result over it\n",
    "#### •\tEg:  a = 20\n",
    "#### Expression\n",
    "#### •\tAn Expression gives us a Value when it is been interpreted by the Python \n",
    "#### •\tEg : a = 30+40*2\n"
   ]
  },
  {
   "cell_type": "markdown",
   "id": "3991c08f",
   "metadata": {},
   "source": [
    "## 6. After running the following code, what does the variable bacon contain?"
   ]
  },
  {
   "cell_type": "markdown",
   "id": "f89d55a9",
   "metadata": {},
   "source": [
    "#### bacon = 22\n",
    "#### bacon + 1\n",
    "#### Over here the value of bacon remains as it is because we are not reassign the value of bacon it \n",
    "#### Eg \n",
    "#### bacon = 22\n",
    "#### bacon = bacon + 1\n",
    "#### Over here then the value will be change to 23\n"
   ]
  },
  {
   "cell_type": "code",
   "execution_count": 16,
   "id": "cb3c982e",
   "metadata": {},
   "outputs": [],
   "source": [
    "bacon = 22\n",
    "bacon = bacon + 1"
   ]
  },
  {
   "cell_type": "code",
   "execution_count": 17,
   "id": "05aaaaf2",
   "metadata": {},
   "outputs": [
    {
     "name": "stdout",
     "output_type": "stream",
     "text": [
      "23\n"
     ]
    }
   ],
   "source": [
    "print(bacon)"
   ]
  },
  {
   "cell_type": "markdown",
   "id": "7f2179c3",
   "metadata": {},
   "source": [
    "## 7. What should the values of the following two terms be?"
   ]
  },
  {
   "cell_type": "markdown",
   "id": "0339266f",
   "metadata": {},
   "source": [
    "'spam' + 'spamspam'\n",
    "'spam' * 3\n",
    "\n",
    "Over here\n",
    "a = 'spam' + 'spamspam'\n",
    "print(a)\n",
    "Ans : a = spamspamspam\n",
    "Plus operator (+) is acting as a concatenating \n",
    "\n",
    "Over here \n",
    "a = 'spam' * 3\n",
    "print(a)\n",
    "Ans : a = spamspamspam\n",
    "Spam word is getting multiply 3 times \n"
   ]
  },
  {
   "cell_type": "code",
   "execution_count": 18,
   "id": "57124de3",
   "metadata": {},
   "outputs": [
    {
     "name": "stdout",
     "output_type": "stream",
     "text": [
      "spamspamspam\n",
      "spamspamspam\n"
     ]
    }
   ],
   "source": [
    "a = 'spam' + 'spamspam'\n",
    "print(a)\n",
    "b = 'spam' * 3\n",
    "print(b)"
   ]
  },
  {
   "cell_type": "markdown",
   "id": "bc9302e1",
   "metadata": {},
   "source": [
    "## 8. Why is eggs a valid variable name while 100 is invalid?"
   ]
  },
  {
   "cell_type": "markdown",
   "id": "a01efb71",
   "metadata": {},
   "source": [
    "Python follows Variable Naming Convention where \n",
    "•\tA variable name must start with a letter or the underscore character\n",
    "•\tA variable name cannot start with a number\n",
    "•\tA variable name can only contain alpha-numeric characters and underscores (A-z, 0-9, and _ )\n",
    "•\tVariable names are case-sensitive (age, Age and AGE are three different variables)9. What three functions can be used to get the integer, floating-point number, or string version of a value?\n",
    "\n"
   ]
  },
  {
   "cell_type": "markdown",
   "id": "c06ee725",
   "metadata": {},
   "source": [
    "## 9. What three functions can be used to get the integer, floating-point number, or string version of a value?"
   ]
  },
  {
   "cell_type": "markdown",
   "id": "f7949e80",
   "metadata": {},
   "source": [
    "The int() , float() , and str( ) functions will evaluate to the integer, floating-point number, and string versions of the value passed to them."
   ]
  },
  {
   "cell_type": "markdown",
   "id": "57e227a2",
   "metadata": {},
   "source": [
    "## 10. Why does this expression cause an error? How can you fix it?\n",
    "## 'I have eaten ' + 99 + ' burritos.'\n"
   ]
  },
  {
   "cell_type": "markdown",
   "id": "47b541bd",
   "metadata": {},
   "source": [
    "Over here the Expression causes an error because we cannot concatenate string with and int \n",
    "So we need to convert 99 number to str which is called Type Casting \n",
    "Eg : a = 'I have eaten ' + str(99) + ' burritos.'\n",
    "print(a)\n",
    "I have eaten 99 burritos.\n",
    "\n"
   ]
  },
  {
   "cell_type": "code",
   "execution_count": 21,
   "id": "cc59f8c8",
   "metadata": {},
   "outputs": [],
   "source": [
    "a = 'I have eaten ' + str(99) + ' burritos.'"
   ]
  },
  {
   "cell_type": "code",
   "execution_count": 22,
   "id": "5be6025c",
   "metadata": {},
   "outputs": [
    {
     "name": "stdout",
     "output_type": "stream",
     "text": [
      "I have eaten 99 burritos.\n"
     ]
    }
   ],
   "source": [
    "print(a)"
   ]
  },
  {
   "cell_type": "code",
   "execution_count": null,
   "id": "dbc0827e",
   "metadata": {},
   "outputs": [],
   "source": []
  }
 ],
 "metadata": {
  "kernelspec": {
   "display_name": "Python 3 (ipykernel)",
   "language": "python",
   "name": "python3"
  },
  "language_info": {
   "codemirror_mode": {
    "name": "ipython",
    "version": 3
   },
   "file_extension": ".py",
   "mimetype": "text/x-python",
   "name": "python",
   "nbconvert_exporter": "python",
   "pygments_lexer": "ipython3",
   "version": "3.9.13"
  }
 },
 "nbformat": 4,
 "nbformat_minor": 5
}
