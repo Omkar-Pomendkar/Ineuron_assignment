{
 "cells": [
  {
   "cell_type": "markdown",
   "id": "477e35b7",
   "metadata": {},
   "source": [
    "### 1. In what modes should the PdfFileReader() and PdfFileWriter() File objects will be opened?"
   ]
  },
  {
   "cell_type": "markdown",
   "id": "8c80d227",
   "metadata": {},
   "source": [
    "For **PdfFileReader()** file objects should be opened in **`rb`** -> read binary mode, ,<br>\n",
    "Whereas for **PdfFileWriter()** file objects should be opened in **`wb`** -> write binary mode."
   ]
  },
  {
   "cell_type": "markdown",
   "id": "92ff610b",
   "metadata": {},
   "source": [
    "### 2. From a PdfFileReader object, how do you get a Page object for page 5?"
   ]
  },
  {
   "cell_type": "markdown",
   "id": "a9024e17",
   "metadata": {},
   "source": [
    "For csv.reader(iterable_file_object), the file objects needed to be opened in read mode mode='r' Whereas for csv.writer(iterable_file_object) the file objects needed to be opened in write mode mode='w'"
   ]
  },
  {
   "cell_type": "code",
   "execution_count": null,
   "id": "7c03cd4d",
   "metadata": {},
   "outputs": [],
   "source": []
  }
 ],
 "metadata": {
  "kernelspec": {
   "display_name": "Python 3 (ipykernel)",
   "language": "python",
   "name": "python3"
  },
  "language_info": {
   "codemirror_mode": {
    "name": "ipython",
    "version": 3
   },
   "file_extension": ".py",
   "mimetype": "text/x-python",
   "name": "python",
   "nbconvert_exporter": "python",
   "pygments_lexer": "ipython3",
   "version": "3.9.13"
  }
 },
 "nbformat": 4,
 "nbformat_minor": 5
}
