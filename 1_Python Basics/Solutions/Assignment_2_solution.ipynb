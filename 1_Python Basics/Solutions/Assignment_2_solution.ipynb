{
 "cells": [
  {
   "cell_type": "markdown",
   "id": "7cbb580a",
   "metadata": {},
   "source": [
    "1.What are the two values of the Boolean data type? How do you write them?"
   ]
  },
  {
   "cell_type": "markdown",
   "id": "cd8dba98",
   "metadata": {},
   "source": [
    "The 2 values of Boolean datatypes are TRUE and FALSE and also (0 and 1)"
   ]
  },
  {
   "cell_type": "code",
   "execution_count": 1,
   "id": "0894657a",
   "metadata": {},
   "outputs": [],
   "source": [
    "a = True\n",
    "b = False"
   ]
  },
  {
   "cell_type": "code",
   "execution_count": 2,
   "id": "2fbe4325",
   "metadata": {},
   "outputs": [
    {
     "name": "stdout",
     "output_type": "stream",
     "text": [
      "<class 'bool'>\n"
     ]
    }
   ],
   "source": [
    "print(type(a))"
   ]
  },
  {
   "cell_type": "markdown",
   "id": "62c770bc",
   "metadata": {},
   "source": [
    "2. What are the three different types of Boolean operators? <br>\n",
    "The 3 types of Boolean operators are AND ,OR,NOT\n"
   ]
  },
  {
   "cell_type": "markdown",
   "id": "2f9e064c",
   "metadata": {},
   "source": [
    "3. Make a list of each Boolean operator's truth tables (i.e. every possible combination of Boolean values for the operator and what it evaluate )."
   ]
  },
  {
   "cell_type": "markdown",
   "id": "87fb9197",
   "metadata": {},
   "source": [
    "# Boolean AND Operator\n",
    "\n",
    "True and True   = True <br>\n",
    "True and False  = False <br>\n",
    "False and True  = False<br>\n",
    "False and False = False<br>\n",
    "\n",
    "\n",
    "# Boolean OR Operator\n",
    "\n",
    "True or True   = True <br>\n",
    "True or False  = True <br>\n",
    "False or True  = True<br>\n",
    "False or False = False<br>\n",
    "\n",
    "\n",
    "# Boolean NOT Operator\n",
    "It Converts True to False <br>\n",
    "and False to True"
   ]
  },
  {
   "cell_type": "markdown",
   "id": "1ed91f44",
   "metadata": {},
   "source": [
    "4. What are the values of the following expressions?"
   ]
  },
  {
   "cell_type": "code",
   "execution_count": 3,
   "id": "5deaf6db",
   "metadata": {},
   "outputs": [
    {
     "name": "stdout",
     "output_type": "stream",
     "text": [
      "False\n"
     ]
    }
   ],
   "source": [
    "print((5 > 4) and (3 == 5))"
   ]
  },
  {
   "cell_type": "code",
   "execution_count": 4,
   "id": "bae740ac",
   "metadata": {},
   "outputs": [
    {
     "name": "stdout",
     "output_type": "stream",
     "text": [
      "False\n"
     ]
    }
   ],
   "source": [
    "print(not (5 > 4))"
   ]
  },
  {
   "cell_type": "code",
   "execution_count": 5,
   "id": "35548dde",
   "metadata": {},
   "outputs": [
    {
     "name": "stdout",
     "output_type": "stream",
     "text": [
      "True\n"
     ]
    }
   ],
   "source": [
    "print((5 > 4) or (3 == 5))"
   ]
  },
  {
   "cell_type": "code",
   "execution_count": 6,
   "id": "2156f389",
   "metadata": {},
   "outputs": [
    {
     "name": "stdout",
     "output_type": "stream",
     "text": [
      "False\n"
     ]
    }
   ],
   "source": [
    "print(not ((5 > 4) or (3 == 5)))"
   ]
  },
  {
   "cell_type": "code",
   "execution_count": 7,
   "id": "6b6f1043",
   "metadata": {},
   "outputs": [
    {
     "name": "stdout",
     "output_type": "stream",
     "text": [
      "False\n"
     ]
    }
   ],
   "source": [
    "print((True and True) and (True == False))"
   ]
  },
  {
   "cell_type": "code",
   "execution_count": 8,
   "id": "1d7c2ddd",
   "metadata": {},
   "outputs": [
    {
     "name": "stdout",
     "output_type": "stream",
     "text": [
      "True\n"
     ]
    }
   ],
   "source": [
    "print((not False) or (not True))"
   ]
  },
  {
   "cell_type": "markdown",
   "id": "b2efad1e",
   "metadata": {},
   "source": [
    "5. What are the six comparison operators?"
   ]
  },
  {
   "cell_type": "markdown",
   "id": "f663bc69",
   "metadata": {},
   "source": [
    "The 6 Comparison Operators are <br>\n",
    "== Equalto<br>\n",
    "!= Not equal<br>\n",
    "> Greater than<br>\n",
    "< Less than<br>\n",
    ">= Greater than or equal to<br>\n",
    "<= Less than or equal to<br>"
   ]
  },
  {
   "cell_type": "code",
   "execution_count": 9,
   "id": "6810ba75",
   "metadata": {},
   "outputs": [
    {
     "name": "stdout",
     "output_type": "stream",
     "text": [
      "True\n",
      "True\n",
      "True\n",
      "False\n",
      "False\n",
      "True\n"
     ]
    }
   ],
   "source": [
    "print(10 == 10)\n",
    "print(10 != 12)\n",
    "print(10 > 2)\n",
    "print(10 < 2)\n",
    "print(5 >= 10)\n",
    "print(3 >= 2)"
   ]
  },
  {
   "cell_type": "markdown",
   "id": "8e1a5f9c",
   "metadata": {},
   "source": [
    "6. How do you tell the difference between the equal to and assignment operators?Describe a condition and when you would use one."
   ]
  },
  {
   "cell_type": "markdown",
   "id": "5b194480",
   "metadata": {},
   "source": [
    "The Equal to == is used to check if both values are matching to each other or not if not it returns false or else True"
   ]
  },
  {
   "cell_type": "code",
   "execution_count": 10,
   "id": "00109115",
   "metadata": {},
   "outputs": [
    {
     "name": "stdout",
     "output_type": "stream",
     "text": [
      "True\n"
     ]
    }
   ],
   "source": [
    "print(5 == 5)"
   ]
  },
  {
   "cell_type": "markdown",
   "id": "c24e369e",
   "metadata": {},
   "source": [
    "Asssignment Operators are used to assign the value to a variable"
   ]
  },
  {
   "cell_type": "code",
   "execution_count": 11,
   "id": "7b402c47",
   "metadata": {},
   "outputs": [],
   "source": [
    "a = 10"
   ]
  },
  {
   "cell_type": "code",
   "execution_count": 12,
   "id": "566f7033",
   "metadata": {},
   "outputs": [
    {
     "name": "stdout",
     "output_type": "stream",
     "text": [
      "10\n"
     ]
    }
   ],
   "source": [
    "print(a)"
   ]
  },
  {
   "cell_type": "markdown",
   "id": "6fe7a5fd",
   "metadata": {},
   "source": [
    "7. Identify the three blocks in this code:"
   ]
  },
  {
   "cell_type": "code",
   "execution_count": 13,
   "id": "ee04b9ff",
   "metadata": {},
   "outputs": [
    {
     "name": "stdout",
     "output_type": "stream",
     "text": [
      "ham\n",
      "spam\n",
      "spam\n"
     ]
    }
   ],
   "source": [
    "spam = 0\n",
    "if spam == 10:\n",
    "    print('eggs')\n",
    "if spam > 5:\n",
    "    print('bacon')\n",
    "else:\n",
    "    print('ham')\n",
    "    print('spam')\n",
    "    print('spam')\n"
   ]
  },
  {
   "cell_type": "markdown",
   "id": "e1b4b974",
   "metadata": {},
   "source": [
    "Over here Indentation was not proper for if and else statement"
   ]
  },
  {
   "cell_type": "markdown",
   "id": "80dafe0d",
   "metadata": {},
   "source": [
    "8. Write code that prints Hello if 1 is stored in spam, prints Howdy if 2 is stored in spam, and prints Greetings! if anything else is stored in spam."
   ]
  },
  {
   "cell_type": "code",
   "execution_count": 14,
   "id": "4b88df87",
   "metadata": {},
   "outputs": [
    {
     "name": "stdout",
     "output_type": "stream",
     "text": [
      "Enter the value of Spam1\n",
      "Hello\n"
     ]
    }
   ],
   "source": [
    "spam = int(input(\"Enter the value of Spam\"))\n",
    "if spam == 1:\n",
    "    print(\"Hello\")\n",
    "elif spam == 2:\n",
    "    print(\"Howdy\")\n",
    "else:\n",
    "    print(\"Greetings!\")"
   ]
  },
  {
   "cell_type": "markdown",
   "id": "a540c306",
   "metadata": {},
   "source": [
    "9.If your programme is stuck in an endless loop, what keys you’ll press?"
   ]
  },
  {
   "cell_type": "code",
   "execution_count": 15,
   "id": "b6fcc6c2",
   "metadata": {},
   "outputs": [
    {
     "name": "stdout",
     "output_type": "stream",
     "text": [
      "1\n",
      "2\n",
      "3\n",
      "4\n",
      "5\n",
      "6\n",
      "7\n",
      "8\n",
      "9\n"
     ]
    }
   ],
   "source": [
    "a = 1\n",
    "while a < 10:\n",
    "    print(a)\n",
    "    a = a+1"
   ]
  },
  {
   "cell_type": "markdown",
   "id": "0786691b",
   "metadata": {},
   "source": [
    "We will make use of Control + C"
   ]
  },
  {
   "cell_type": "markdown",
   "id": "dcdaf004",
   "metadata": {},
   "source": [
    "10. How can you tell the difference between break and continue?"
   ]
  },
  {
   "cell_type": "markdown",
   "id": "acc76b65",
   "metadata": {},
   "source": [
    "While using for loop or while loop we can use of break and continue loop <br>\n",
    "**BREAK**<br>\n",
    "break keyword is used for breaking the loop if certain condition is <br>\n",
    "**CONTINUE**<br>\n",
    "Continue Keyword is used to skip the current iteration of the loop and then the control goes to the Next Iteration"
   ]
  },
  {
   "cell_type": "code",
   "execution_count": 16,
   "id": "06701de2",
   "metadata": {},
   "outputs": [
    {
     "name": "stdout",
     "output_type": "stream",
     "text": [
      "0\n",
      "1\n",
      "2\n",
      "3\n",
      "4\n",
      "5\n"
     ]
    }
   ],
   "source": [
    "for i in range(10):\n",
    "    print(i)\n",
    "    if i == 5:\n",
    "        break"
   ]
  },
  {
   "cell_type": "markdown",
   "id": "9a90bf4e",
   "metadata": {},
   "source": [
    "Over here i == 5 criteria has meet so the program stops execution"
   ]
  },
  {
   "cell_type": "code",
   "execution_count": 17,
   "id": "f5f83ef6",
   "metadata": {},
   "outputs": [
    {
     "name": "stdout",
     "output_type": "stream",
     "text": [
      "0\n",
      "1\n",
      "2\n",
      "3\n",
      "4\n",
      "6\n",
      "7\n",
      "8\n",
      "9\n"
     ]
    }
   ],
   "source": [
    "for i in range(0,10):\n",
    "    if i == 5:\n",
    "        continue\n",
    "    print(i)"
   ]
  },
  {
   "cell_type": "markdown",
   "id": "01920e0c",
   "metadata": {},
   "source": [
    "Over her 5 number is skipped "
   ]
  },
  {
   "cell_type": "markdown",
   "id": "ed6b5947",
   "metadata": {},
   "source": [
    "11. In a for loop, what is the difference between range(10), range(0, 10), and range(0, 10, 1)?"
   ]
  },
  {
   "cell_type": "markdown",
   "id": "684bf3ed",
   "metadata": {},
   "source": [
    "for i in range(10):<br>\n",
    "    print(i)<br>\n",
    "Over here it prints value from 0-9 total 10 digits"
   ]
  },
  {
   "cell_type": "markdown",
   "id": "149e02b2",
   "metadata": {},
   "source": [
    "for i in range(0,10): <br>\n",
    "    print(i)<br>\n",
    "Over here it prints value from 0-9 total 10 digits but here Starting and Ending postion is given"
   ]
  },
  {
   "cell_type": "markdown",
   "id": "0ea53ffc",
   "metadata": {},
   "source": [
    "for i in range(0,10,1):<br>\n",
    "    print(i)<br>\n",
    "Over here it prints value from 0-9 total 10 digits, here Starting and Ending postion is given along with a jump of 1"
   ]
  },
  {
   "cell_type": "markdown",
   "id": "9ff66570",
   "metadata": {},
   "source": [
    "12. Write a short program that prints the numbers 1 to 10 using a for loop. Then write an equivalent program that prints the numbers 1 to 10 using a while loop."
   ]
  },
  {
   "cell_type": "code",
   "execution_count": 18,
   "id": "8e2575d0",
   "metadata": {},
   "outputs": [
    {
     "name": "stdout",
     "output_type": "stream",
     "text": [
      "1\n",
      "2\n",
      "3\n",
      "4\n",
      "5\n",
      "6\n",
      "7\n",
      "8\n",
      "9\n",
      "10\n"
     ]
    }
   ],
   "source": [
    "for i in range(1,11):\n",
    "    print(i)"
   ]
  },
  {
   "cell_type": "code",
   "execution_count": 20,
   "id": "28f14117",
   "metadata": {},
   "outputs": [
    {
     "name": "stdout",
     "output_type": "stream",
     "text": [
      "1\n",
      "2\n",
      "3\n",
      "4\n",
      "5\n",
      "6\n",
      "7\n",
      "8\n",
      "9\n",
      "10\n"
     ]
    }
   ],
   "source": [
    "i = 1\n",
    "while i <= 10:\n",
    "    print(i)\n",
    "    i = i+1"
   ]
  },
  {
   "cell_type": "markdown",
   "id": "e8f5c51a",
   "metadata": {},
   "source": [
    "13 If you had a function named bacon() inside a module named spam, how would you call it after importing spam?\n"
   ]
  },
  {
   "cell_type": "markdown",
   "id": "9a1cacc8",
   "metadata": {},
   "source": [
    "**spam.bacon()**"
   ]
  },
  {
   "cell_type": "code",
   "execution_count": null,
   "id": "b21c6428",
   "metadata": {},
   "outputs": [],
   "source": []
  }
 ],
 "metadata": {
  "kernelspec": {
   "display_name": "Python 3 (ipykernel)",
   "language": "python",
   "name": "python3"
  },
  "language_info": {
   "codemirror_mode": {
    "name": "ipython",
    "version": 3
   },
   "file_extension": ".py",
   "mimetype": "text/x-python",
   "name": "python",
   "nbconvert_exporter": "python",
   "pygments_lexer": "ipython3",
   "version": "3.9.13"
  }
 },
 "nbformat": 4,
 "nbformat_minor": 5
}
