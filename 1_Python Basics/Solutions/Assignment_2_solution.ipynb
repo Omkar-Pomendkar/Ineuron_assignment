{
 "cells": [
  {
   "cell_type": "markdown",
   "id": "7cbb580a",
   "metadata": {},
   "source": [
    "### 1.What are the two values of the Boolean data type? How do you write them?"
   ]
  },
  {
   "cell_type": "markdown",
   "id": "cd8dba98",
   "metadata": {},
   "source": [
    "The 2 values of Boolean datatypes are TRUE and FALSE and also (0 and 1)"
   ]
  },
  {
   "cell_type": "code",
   "execution_count": 12,
   "id": "0894657a",
   "metadata": {},
   "outputs": [],
   "source": [
    "a = True\n",
    "b = False"
   ]
  },
  {
   "cell_type": "code",
   "execution_count": 13,
   "id": "2fbe4325",
   "metadata": {},
   "outputs": [
    {
     "name": "stdout",
     "output_type": "stream",
     "text": [
      "<class 'bool'>\n"
     ]
    }
   ],
   "source": [
    "print(type(a))"
   ]
  },
  {
   "cell_type": "markdown",
   "id": "62c770bc",
   "metadata": {},
   "source": [
    "## 2. What are the three different types of Boolean operators?\n",
    "The 3 types of Boolean operators are AND ,OR,NOT\n"
   ]
  },
  {
   "cell_type": "markdown",
   "id": "87fb9197",
   "metadata": {},
   "source": [
    "# Boolean AND Operator\n",
    "\n",
    "True and True   = True <br>\n",
    "True and False  = False <br>\n",
    "False and True  = False<br>\n",
    "False and False = False<br>\n",
    "\n",
    "\n",
    "# Boolean OR Operator\n",
    "\n",
    "True or True   = True <br>\n",
    "True or False  = True <br>\n",
    "False or True  = True<br>\n",
    "False or False = False<br>\n",
    "\n",
    "\n",
    "# Boolean NOT Operator\n",
    "It Converts True to False <br>\n",
    "and False to True"
   ]
  },
  {
   "cell_type": "raw",
   "id": "5aa1b195",
   "metadata": {},
   "source": []
  },
  {
   "cell_type": "code",
   "execution_count": null,
   "id": "bae740ac",
   "metadata": {},
   "outputs": [],
   "source": []
  }
 ],
 "metadata": {
  "kernelspec": {
   "display_name": "Python 3 (ipykernel)",
   "language": "python",
   "name": "python3"
  },
  "language_info": {
   "codemirror_mode": {
    "name": "ipython",
    "version": 3
   },
   "file_extension": ".py",
   "mimetype": "text/x-python",
   "name": "python",
   "nbconvert_exporter": "python",
   "pygments_lexer": "ipython3",
   "version": "3.9.13"
  }
 },
 "nbformat": 4,
 "nbformat_minor": 5
}
