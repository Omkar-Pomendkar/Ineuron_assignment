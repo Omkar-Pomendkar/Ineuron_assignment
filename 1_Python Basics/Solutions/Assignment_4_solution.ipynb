{
 "cells": [
  {
   "cell_type": "markdown",
   "id": "88a93a52",
   "metadata": {},
   "source": [
    "1. What exactly is [ ] ?  - This is an Empty List"
   ]
  },
  {
   "cell_type": "code",
   "execution_count": 1,
   "id": "f9b1b577",
   "metadata": {},
   "outputs": [],
   "source": [
    "a = []"
   ]
  },
  {
   "cell_type": "code",
   "execution_count": 2,
   "id": "9ddfac49",
   "metadata": {},
   "outputs": [
    {
     "name": "stdout",
     "output_type": "stream",
     "text": [
      "<class 'list'>\n"
     ]
    }
   ],
   "source": [
    "print(type(a))"
   ]
  },
  {
   "cell_type": "markdown",
   "id": "2faafc3a",
   "metadata": {},
   "source": [
    "2. In a list of values stored in a variable called spam, how would you assign the value 'hello' as the third value? (Assume [2, 4, 6, 8, 10] are in spam.)"
   ]
  },
  {
   "cell_type": "code",
   "execution_count": 3,
   "id": "a93f2d2b",
   "metadata": {},
   "outputs": [],
   "source": [
    "spam = [2,4,6,8,10]"
   ]
  },
  {
   "cell_type": "code",
   "execution_count": 4,
   "id": "58adc247",
   "metadata": {},
   "outputs": [],
   "source": [
    "spam.insert(3,\"Hello\")"
   ]
  },
  {
   "cell_type": "code",
   "execution_count": 9,
   "id": "90d045dc",
   "metadata": {},
   "outputs": [
    {
     "name": "stdout",
     "output_type": "stream",
     "text": [
      "Hello\n"
     ]
    }
   ],
   "source": [
    "print(spam[3])"
   ]
  },
  {
   "cell_type": "code",
   "execution_count": 7,
   "id": "127ada87",
   "metadata": {},
   "outputs": [
    {
     "name": "stdout",
     "output_type": "stream",
     "text": [
      "2\n",
      "4\n",
      "6\n",
      "Hello\n",
      "8\n",
      "10\n"
     ]
    }
   ],
   "source": [
    "for i in spam:\n",
    "    print(i)"
   ]
  },
  {
   "cell_type": "markdown",
   "id": "6619278b",
   "metadata": {},
   "source": [
    "3. What is the value of spam[int(int('3' * 2) / 11)]?"
   ]
  },
  {
   "cell_type": "code",
   "execution_count": 10,
   "id": "a4839f68",
   "metadata": {},
   "outputs": [],
   "source": [
    "spam = ['a', 'b', 'c', 'd']"
   ]
  },
  {
   "cell_type": "code",
   "execution_count": 11,
   "id": "07d310e0",
   "metadata": {},
   "outputs": [
    {
     "name": "stdout",
     "output_type": "stream",
     "text": [
      "d\n"
     ]
    }
   ],
   "source": [
    "print(spam[int(int('3' * 2) / 11)])"
   ]
  },
  {
   "cell_type": "markdown",
   "id": "20d65dd1",
   "metadata": {},
   "source": [
    "4. What is the value of spam[-1]?"
   ]
  },
  {
   "cell_type": "code",
   "execution_count": 12,
   "id": "2710d729",
   "metadata": {},
   "outputs": [
    {
     "data": {
      "text/plain": [
       "'d'"
      ]
     },
     "execution_count": 12,
     "metadata": {},
     "output_type": "execute_result"
    }
   ],
   "source": [
    "spam[-1]"
   ]
  },
  {
   "cell_type": "markdown",
   "id": "a810ed31",
   "metadata": {},
   "source": [
    "It uses negative index Concept "
   ]
  },
  {
   "cell_type": "markdown",
   "id": "4a57462e",
   "metadata": {},
   "source": [
    "5. What is the value of spam[:2]?"
   ]
  },
  {
   "cell_type": "code",
   "execution_count": 14,
   "id": "48f9cdca",
   "metadata": {},
   "outputs": [
    {
     "data": {
      "text/plain": [
       "['a', 'b']"
      ]
     },
     "execution_count": 14,
     "metadata": {},
     "output_type": "execute_result"
    }
   ],
   "source": [
    "spam[:2]"
   ]
  },
  {
   "cell_type": "markdown",
   "id": "432d9e22",
   "metadata": {},
   "source": [
    "It starts form 0 and ends at 2"
   ]
  },
  {
   "cell_type": "markdown",
   "id": "fae6694c",
   "metadata": {},
   "source": [
    "Let's pretend bacon has the list [3.14, 'cat,' 11, 'cat,' True] for the next three questions"
   ]
  },
  {
   "cell_type": "code",
   "execution_count": 25,
   "id": "57bcdbef",
   "metadata": {},
   "outputs": [],
   "source": [
    "bacon = [3.14, 'cat', 11, 'cat', True]"
   ]
  },
  {
   "cell_type": "code",
   "execution_count": 26,
   "id": "201f840a",
   "metadata": {},
   "outputs": [
    {
     "name": "stdout",
     "output_type": "stream",
     "text": [
      "[3.14, 'cat', 11, 'cat', True]\n"
     ]
    }
   ],
   "source": [
    "print(bacon)"
   ]
  },
  {
   "cell_type": "markdown",
   "id": "2bb069ef",
   "metadata": {},
   "source": [
    "6. What is the value of bacon.index('cat')?"
   ]
  },
  {
   "cell_type": "code",
   "execution_count": 27,
   "id": "c241587a",
   "metadata": {},
   "outputs": [
    {
     "data": {
      "text/plain": [
       "1"
      ]
     },
     "execution_count": 27,
     "metadata": {},
     "output_type": "execute_result"
    }
   ],
   "source": [
    "bacon.index('cat')"
   ]
  },
  {
   "cell_type": "markdown",
   "id": "bfb32019",
   "metadata": {},
   "source": [
    "It returns the starting index where we find the value of Cat"
   ]
  },
  {
   "cell_type": "markdown",
   "id": "6c708eb1",
   "metadata": {},
   "source": [
    "7. How does bacon.append(99) change the look of the list value in bacon?"
   ]
  },
  {
   "cell_type": "code",
   "execution_count": 29,
   "id": "114b57d2",
   "metadata": {},
   "outputs": [],
   "source": [
    "bacon.append(99)"
   ]
  },
  {
   "cell_type": "markdown",
   "id": "495ae51c",
   "metadata": {},
   "source": [
    "It adds the value 99 at the end of the list"
   ]
  },
  {
   "cell_type": "code",
   "execution_count": 30,
   "id": "5188d93e",
   "metadata": {},
   "outputs": [
    {
     "name": "stdout",
     "output_type": "stream",
     "text": [
      "[3.14, 'cat', 11, 'cat', True, 99]\n"
     ]
    }
   ],
   "source": [
    "print(bacon)"
   ]
  },
  {
   "cell_type": "markdown",
   "id": "aa795071",
   "metadata": {},
   "source": [
    "8. How does bacon.remove('cat') change the look of the list in bacon?"
   ]
  },
  {
   "cell_type": "code",
   "execution_count": 31,
   "id": "456fb736",
   "metadata": {},
   "outputs": [],
   "source": [
    "bacon.remove('cat') "
   ]
  },
  {
   "cell_type": "code",
   "execution_count": 32,
   "id": "9b8e41ac",
   "metadata": {},
   "outputs": [
    {
     "name": "stdout",
     "output_type": "stream",
     "text": [
      "[3.14, 11, 'cat', True, 99]\n"
     ]
    }
   ],
   "source": [
    "print(bacon)"
   ]
  },
  {
   "cell_type": "markdown",
   "id": "4b52e5ab",
   "metadata": {},
   "source": [
    "It removes the value of cat where it finds the first Element"
   ]
  },
  {
   "cell_type": "markdown",
   "id": "84c52a9e",
   "metadata": {},
   "source": [
    "9. What are the list concatenation and list replication operators?"
   ]
  },
  {
   "cell_type": "markdown",
   "id": "5f20c9dd",
   "metadata": {},
   "source": [
    "list Concatenation is a process of concatenating 2 list into One **PLUS** Operator is used"
   ]
  },
  {
   "cell_type": "code",
   "execution_count": 33,
   "id": "e11692ad",
   "metadata": {},
   "outputs": [
    {
     "name": "stdout",
     "output_type": "stream",
     "text": [
      "[1, 2, 3, 4, 5, 6, 7, 8, 9, 10]\n"
     ]
    }
   ],
   "source": [
    "l1 = [1,2,3,4,5]\n",
    "l2 = [6,7,8,9,10]\n",
    "newlist = l1 +l2\n",
    "print(newlist)"
   ]
  },
  {
   "cell_type": "markdown",
   "id": "9bdc0084",
   "metadata": {},
   "source": [
    "List replication is a process of **multiplying** list many times"
   ]
  },
  {
   "cell_type": "code",
   "execution_count": 35,
   "id": "d782c444",
   "metadata": {},
   "outputs": [
    {
     "name": "stdout",
     "output_type": "stream",
     "text": [
      "[1, 3, 5, 7, 9, 11, 1, 3, 5, 7, 9, 11, 1, 3, 5, 7, 9, 11]\n"
     ]
    }
   ],
   "source": [
    "l3 = [1,3,5,7,9,11]\n",
    "l4 = l3*3\n",
    "print(l4)"
   ]
  },
  {
   "cell_type": "markdown",
   "id": "8af7536a",
   "metadata": {},
   "source": [
    "10. What is difference between the list methods append() and insert()?"
   ]
  },
  {
   "cell_type": "markdown",
   "id": "6b1fe06a",
   "metadata": {},
   "source": [
    "**append** - Append methods add the value at the end of the list<br>\n",
    "**insert** - Insert method add the value at a specific position in list wherever we want"
   ]
  },
  {
   "cell_type": "code",
   "execution_count": 38,
   "id": "399a08fb",
   "metadata": {},
   "outputs": [
    {
     "name": "stdout",
     "output_type": "stream",
     "text": [
      "[250, 1, 2, 3, 4, 5, 6, 7, 8, 9, 10, 100]\n"
     ]
    }
   ],
   "source": [
    "l5 = [1,2,3,4,5,6,7,8,9,10]\n",
    "l5.append(100)\n",
    "l5.insert(0,250)\n",
    "print(l5)"
   ]
  },
  {
   "cell_type": "markdown",
   "id": "b1207022",
   "metadata": {},
   "source": [
    "11. What are the two methods for removing items from a list?"
   ]
  },
  {
   "cell_type": "code",
   "execution_count": 39,
   "id": "4ad7a642",
   "metadata": {},
   "outputs": [
    {
     "data": {
      "text/plain": [
       "100"
      ]
     },
     "execution_count": 39,
     "metadata": {},
     "output_type": "execute_result"
    }
   ],
   "source": [
    "l5.pop()"
   ]
  },
  {
   "cell_type": "code",
   "execution_count": 46,
   "id": "b4d63f70",
   "metadata": {},
   "outputs": [
    {
     "name": "stdout",
     "output_type": "stream",
     "text": [
      "None\n"
     ]
    }
   ],
   "source": [
    "print(l5.remove(3))"
   ]
  },
  {
   "cell_type": "markdown",
   "id": "1ef01fb4",
   "metadata": {},
   "source": [
    "**pop** method helps to remove the value from the end of the list<br>\n",
    "**remove** method help us remove a specific value from the list"
   ]
  },
  {
   "cell_type": "markdown",
   "id": "ab875ef6",
   "metadata": {},
   "source": [
    "12. Describe how list values and string values are identical."
   ]
  },
  {
   "cell_type": "markdown",
   "id": "f0ec196e",
   "metadata": {},
   "source": [
    "The List values and String value are in Sequence format so that's why they are identical <br>\n",
    "Both lists and strings can be passed to len(), have indexes and slices, be used in for loops, be concatenated or replicated, and be used with the in and not in operators."
   ]
  },
  {
   "cell_type": "markdown",
   "id": "cbe45f3e",
   "metadata": {},
   "source": [
    "13. What's the difference between tuples and lists?"
   ]
  },
  {
   "cell_type": "markdown",
   "id": "614c5dd6",
   "metadata": {},
   "source": [
    "The Differece between **Tuple** and **List** is <br>\n",
    "list make use of [ ]<br>\n",
    "list are mutable which means it can change the Value<br>\n",
    "\n",
    "Tuple make use of (  )<br>\n",
    "Tuples are immutable which means once created the value cannot be changed"
   ]
  },
  {
   "cell_type": "markdown",
   "id": "d33b726c",
   "metadata": {},
   "source": [
    "14. How do you type a tuple value that only contains the integer 42?"
   ]
  },
  {
   "cell_type": "code",
   "execution_count": 50,
   "id": "54c6651e",
   "metadata": {},
   "outputs": [
    {
     "name": "stdout",
     "output_type": "stream",
     "text": [
      "<class 'tuple'>\n"
     ]
    }
   ],
   "source": [
    "t = (42,)\n",
    "print(type(t))"
   ]
  },
  {
   "cell_type": "markdown",
   "id": "14dceaf4",
   "metadata": {},
   "source": [
    "We make use of comma after a Value otherwise it is an Integer"
   ]
  },
  {
   "cell_type": "markdown",
   "id": "a717e300",
   "metadata": {},
   "source": [
    "15. How do you get a list value's tuple form? How do you get a tuple value's list form?"
   ]
  },
  {
   "cell_type": "markdown",
   "id": "221c217b",
   "metadata": {},
   "source": [
    "We make use of tuple() and list() functions"
   ]
  },
  {
   "cell_type": "markdown",
   "id": "bca8602a",
   "metadata": {},
   "source": [
    "16. Variables that \"contain\" list values are not necessarily lists themselves. Instead, what do they contain?"
   ]
  },
  {
   "cell_type": "markdown",
   "id": "f27d18c9",
   "metadata": {},
   "source": [
    "They contain references to list values."
   ]
  },
  {
   "cell_type": "markdown",
   "id": "d7a36b77",
   "metadata": {},
   "source": [
    "17. How do you distinguish between copy.copy() and copy.deepcopy()?"
   ]
  },
  {
   "cell_type": "code",
   "execution_count": 60,
   "id": "54870570",
   "metadata": {},
   "outputs": [
    {
     "data": {
      "text/plain": [
       "([1, 2, 3, 4, 5], [1, 2, 3, 4, 5])"
      ]
     },
     "execution_count": 60,
     "metadata": {},
     "output_type": "execute_result"
    }
   ],
   "source": [
    "lst1 = [1,2,3,4,5]\n",
    "lst2 = lst1.copy()\n",
    "lst1,lst2"
   ]
  },
  {
   "cell_type": "code",
   "execution_count": 61,
   "id": "189a30ff",
   "metadata": {},
   "outputs": [],
   "source": [
    "lst2[1] = 2000"
   ]
  },
  {
   "cell_type": "code",
   "execution_count": 62,
   "id": "53e13e4a",
   "metadata": {},
   "outputs": [
    {
     "data": {
      "text/plain": [
       "([1, 2, 3, 4, 5], [1, 2000, 3, 4, 5])"
      ]
     },
     "execution_count": 62,
     "metadata": {},
     "output_type": "execute_result"
    }
   ],
   "source": [
    "lst1,lst2"
   ]
  },
  {
   "cell_type": "markdown",
   "id": "a380376d",
   "metadata": {},
   "source": [
    "**Shallow Copy** help us to create a copy of the list in different location and let's say I update the value of 1'st list the value of the 2nd list does not get affect"
   ]
  },
  {
   "cell_type": "code",
   "execution_count": 65,
   "id": "58e73a08",
   "metadata": {},
   "outputs": [],
   "source": [
    "import copy\n",
    "lst4 = [1,2,3,4]\n",
    "lst5 = copy.deepcopy(lst4)"
   ]
  },
  {
   "cell_type": "code",
   "execution_count": 66,
   "id": "aaeaf996",
   "metadata": {},
   "outputs": [],
   "source": [
    "lst4 [2] = 5000"
   ]
  },
  {
   "cell_type": "code",
   "execution_count": 67,
   "id": "26477aaf",
   "metadata": {},
   "outputs": [
    {
     "data": {
      "text/plain": [
       "([1, 2, 5000, 4], [1, 2, 3, 4])"
      ]
     },
     "execution_count": 67,
     "metadata": {},
     "output_type": "execute_result"
    }
   ],
   "source": [
    "lst4,lst5"
   ]
  },
  {
   "cell_type": "markdown",
   "id": "a21b7bfc",
   "metadata": {},
   "source": [
    "** In aNormal List Shallow Copy == Deep Copy **"
   ]
  },
  {
   "cell_type": "code",
   "execution_count": null,
   "id": "b93013b0",
   "metadata": {},
   "outputs": [],
   "source": []
  }
 ],
 "metadata": {
  "kernelspec": {
   "display_name": "Python 3 (ipykernel)",
   "language": "python",
   "name": "python3"
  },
  "language_info": {
   "codemirror_mode": {
    "name": "ipython",
    "version": 3
   },
   "file_extension": ".py",
   "mimetype": "text/x-python",
   "name": "python",
   "nbconvert_exporter": "python",
   "pygments_lexer": "ipython3",
   "version": "3.9.13"
  }
 },
 "nbformat": 4,
 "nbformat_minor": 5
}
