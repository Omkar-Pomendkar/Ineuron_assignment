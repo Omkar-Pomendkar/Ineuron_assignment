{
 "cells": [
  {
   "cell_type": "markdown",
   "id": "6477e5fb",
   "metadata": {},
   "source": [
    "1. What does an empty dictionary's code look like?"
   ]
  },
  {
   "cell_type": "code",
   "execution_count": 4,
   "id": "566d0dc7",
   "metadata": {},
   "outputs": [
    {
     "name": "stdout",
     "output_type": "stream",
     "text": [
      "<class 'dict'>\n"
     ]
    }
   ],
   "source": [
    "d = {}\n",
    "print(type(d))"
   ]
  },
  {
   "cell_type": "markdown",
   "id": "90f06b7e",
   "metadata": {},
   "source": [
    "This is an Empty Dictionary"
   ]
  },
  {
   "cell_type": "markdown",
   "id": "923f9332",
   "metadata": {},
   "source": [
    "2. What is the value of a dictionary value with the key 'foo' and the value 42?"
   ]
  },
  {
   "cell_type": "code",
   "execution_count": 10,
   "id": "4ccd91ea",
   "metadata": {},
   "outputs": [],
   "source": [
    "d = {\"foo\":42}"
   ]
  },
  {
   "cell_type": "code",
   "execution_count": 11,
   "id": "2860149e",
   "metadata": {},
   "outputs": [
    {
     "name": "stdout",
     "output_type": "stream",
     "text": [
      "dict_values([42])\n"
     ]
    }
   ],
   "source": [
    "print(d.values())"
   ]
  },
  {
   "cell_type": "markdown",
   "id": "a5d354df",
   "metadata": {},
   "source": [
    "The Value is 42"
   ]
  },
  {
   "cell_type": "markdown",
   "id": "069241c9",
   "metadata": {},
   "source": [
    "3. What is the most significant distinction between a dictionary and a list?"
   ]
  },
  {
   "cell_type": "markdown",
   "id": "4a0b69b1",
   "metadata": {},
   "source": [
    "The Value Stored in list is of Sequence type whereas in dictionary it is stored in key Value pair"
   ]
  },
  {
   "cell_type": "markdown",
   "id": "eca3bd48",
   "metadata": {},
   "source": [
    "4. What happens if you try to access spam['foo'] if spam is {'bar': 100}?"
   ]
  },
  {
   "cell_type": "code",
   "execution_count": 13,
   "id": "831e8cf1",
   "metadata": {},
   "outputs": [],
   "source": [
    "spam = {'bar':100}"
   ]
  },
  {
   "cell_type": "code",
   "execution_count": 15,
   "id": "5bcc2e18",
   "metadata": {},
   "outputs": [
    {
     "ename": "KeyError",
     "evalue": "'foo'",
     "output_type": "error",
     "traceback": [
      "\u001b[1;31m---------------------------------------------------------------------------\u001b[0m",
      "\u001b[1;31mKeyError\u001b[0m                                  Traceback (most recent call last)",
      "\u001b[1;32m~\\AppData\\Local\\Temp\\ipykernel_10964\\3999281786.py\u001b[0m in \u001b[0;36m<module>\u001b[1;34m\u001b[0m\n\u001b[1;32m----> 1\u001b[1;33m \u001b[0mspam\u001b[0m\u001b[1;33m[\u001b[0m\u001b[1;34m'foo'\u001b[0m\u001b[1;33m]\u001b[0m\u001b[1;33m\u001b[0m\u001b[1;33m\u001b[0m\u001b[0m\n\u001b[0m",
      "\u001b[1;31mKeyError\u001b[0m: 'foo'"
     ]
    }
   ],
   "source": [
    "spam['foo']"
   ]
  },
  {
   "cell_type": "markdown",
   "id": "d700bab6",
   "metadata": {},
   "source": [
    "We will get an Error denoting no Key present ion a Dictionary"
   ]
  },
  {
   "cell_type": "markdown",
   "id": "32be3b6a",
   "metadata": {},
   "source": [
    "5. If a dictionary is stored in spam, what is the difference between the expressions 'cat' in spam and 'cat' in spam.keys()?"
   ]
  },
  {
   "cell_type": "markdown",
   "id": "4080ae8b",
   "metadata": {},
   "source": [
    "No difference it checks whether the Value is cat is present or not"
   ]
  },
  {
   "cell_type": "markdown",
   "id": "8a132d4a",
   "metadata": {},
   "source": [
    "6. If a dictionary is stored in spam, what is the difference between the expressions 'cat' in spam and 'cat' in spam.values()?"
   ]
  },
  {
   "cell_type": "markdown",
   "id": "3c191f52",
   "metadata": {},
   "source": [
    "'cat' in spam checks whether there is a 'cat' key in the dictionary,  <br> while 'cat' in spam.values() checks whether there is a value 'cat' for one of the keys in spam.\n",
    "\n"
   ]
  },
  {
   "cell_type": "markdown",
   "id": "ffc75f8a",
   "metadata": {},
   "source": [
    "7. What is a shortcut for the following code? <br>\n",
    "if 'color' not in spam:<br>\n",
    "spam['color'] = 'black'\n"
   ]
  },
  {
   "cell_type": "code",
   "execution_count": 16,
   "id": "74465d06",
   "metadata": {},
   "outputs": [
    {
     "data": {
      "text/plain": [
       "'black'"
      ]
     },
     "execution_count": 16,
     "metadata": {},
     "output_type": "execute_result"
    }
   ],
   "source": [
    "spam.setdefault('color', 'black')"
   ]
  },
  {
   "cell_type": "markdown",
   "id": "5a17712e",
   "metadata": {},
   "source": [
    "8. How do you \"pretty print\" dictionary values using which module and function?"
   ]
  },
  {
   "cell_type": "markdown",
   "id": "dceb7654",
   "metadata": {},
   "source": [
    "We can use either the pprint module or the json library to pretty print a nested dictionary.<br> To do this, the pprint module includes a built-in function called pprint()"
   ]
  },
  {
   "cell_type": "code",
   "execution_count": 19,
   "id": "91555d04",
   "metadata": {},
   "outputs": [
    {
     "name": "stdout",
     "output_type": "stream",
     "text": [
      "{'Company name ': 'Ineuron', 'Student': 'Omkar'}\n"
     ]
    }
   ],
   "source": [
    "import pprint\n",
    "company = {\"Company name \" : \"Ineuron\", \"Student\" : \"Omkar\"}\n",
    "pprint.pprint(company)"
   ]
  }
 ],
 "metadata": {
  "kernelspec": {
   "display_name": "Python 3 (ipykernel)",
   "language": "python",
   "name": "python3"
  },
  "language_info": {
   "codemirror_mode": {
    "name": "ipython",
    "version": 3
   },
   "file_extension": ".py",
   "mimetype": "text/x-python",
   "name": "python",
   "nbconvert_exporter": "python",
   "pygments_lexer": "ipython3",
   "version": "3.9.13"
  }
 },
 "nbformat": 4,
 "nbformat_minor": 5
}
