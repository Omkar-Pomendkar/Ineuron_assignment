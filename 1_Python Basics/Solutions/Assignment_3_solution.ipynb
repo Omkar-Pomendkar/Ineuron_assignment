{
 "cells": [
  {
   "cell_type": "markdown",
   "id": "736d14d5",
   "metadata": {},
   "source": [
    "1. Why are functions advantageous to have in your programs?"
   ]
  },
  {
   "cell_type": "markdown",
   "id": "809787b4",
   "metadata": {},
   "source": [
    "Function is a block of code help us to perform a Speccific Task <br>\n",
    "It help us to divide complex problem into smaller parts which makes our program easy to understand and help us to reuse the Code"
   ]
  },
  {
   "cell_type": "markdown",
   "id": "7acdbcbd",
   "metadata": {},
   "source": [
    "2. When does the code in a function run: when it's specified or when it's called?"
   ]
  },
  {
   "cell_type": "markdown",
   "id": "58cdda51",
   "metadata": {},
   "source": [
    "The function code runs when it is called\n",
    "**Example**"
   ]
  },
  {
   "cell_type": "code",
   "execution_count": 2,
   "id": "a0ff5af8",
   "metadata": {},
   "outputs": [],
   "source": [
    "def great():\n",
    "    print(\"Hello good Morning Everybody\")"
   ]
  },
  {
   "cell_type": "code",
   "execution_count": 3,
   "id": "bb38856c",
   "metadata": {},
   "outputs": [
    {
     "name": "stdout",
     "output_type": "stream",
     "text": [
      "Hello good Morning Everybody\n"
     ]
    }
   ],
   "source": [
    "great()"
   ]
  },
  {
   "cell_type": "markdown",
   "id": "0da25b75",
   "metadata": {},
   "source": [
    "3. What statement creates a function?"
   ]
  },
  {
   "cell_type": "markdown",
   "id": "8b409941",
   "metadata": {},
   "source": [
    "def - keyword used to define a function<br>\n",
    "function_name - any name given to the function<br>\n",
    "arguments - any value passed to function<br>\n",
    "return (optional) - returns value from a function<br>"
   ]
  },
  {
   "cell_type": "markdown",
   "id": "832de324",
   "metadata": {},
   "source": [
    "4. What is the difference between a function and a function call?"
   ]
  },
  {
   "cell_type": "markdown",
   "id": "c9abfd52",
   "metadata": {},
   "source": [
    "A function is block of Code writeen once <br>\n",
    "A function call is used to call the function where ever necessary in the program by functionname() "
   ]
  },
  {
   "cell_type": "markdown",
   "id": "9349985b",
   "metadata": {},
   "source": [
    "5. How many global scopes are there in a Python program? How many local scopes?"
   ]
  },
  {
   "cell_type": "markdown",
   "id": "ef2d7701",
   "metadata": {},
   "source": [
    "There's only one global Python scope per program execution. This scope remains in existence until the program terminates <br>\n",
    "A variable created inside a function belongs to the local scope of that function, and can only be used inside that function."
   ]
  },
  {
   "cell_type": "markdown",
   "id": "54b15554",
   "metadata": {},
   "source": [
    "6. What happens to variables in a local scope when the function call returns?"
   ]
  },
  {
   "cell_type": "markdown",
   "id": "3d8e47c4",
   "metadata": {},
   "source": [
    "When a function call returns the execution of a program terminates the local variables get destroyed"
   ]
  },
  {
   "cell_type": "markdown",
   "id": "9acf8770",
   "metadata": {},
   "source": [
    "7. What is the concept of a return value? Is it possible to have a return value in an expression?"
   ]
  },
  {
   "cell_type": "markdown",
   "id": "1ef705aa",
   "metadata": {},
   "source": [
    "If the data type of the expression is different from the function return type, conversion of the return value takes place as if the value of the expression were assigned to an object with the same function return type. For a function of return type void , a return statement is not strictly necessary."
   ]
  },
  {
   "cell_type": "markdown",
   "id": "a82377d8",
   "metadata": {},
   "source": [
    "8. If a function does not have a return statement, what is the return value of a call to that function?"
   ]
  },
  {
   "cell_type": "markdown",
   "id": "b9b9549c",
   "metadata": {},
   "source": [
    "If no return statement appears in a function definition, control automatically returns to the calling function after the last statement of the called function is executed. In this case, the return value of the called function is undefined"
   ]
  },
  {
   "cell_type": "markdown",
   "id": "e1e8bc06",
   "metadata": {},
   "source": [
    "9. How do you make a function variable refer to the global variable?"
   ]
  },
  {
   "cell_type": "markdown",
   "id": "c935b895",
   "metadata": {},
   "source": [
    "when you create a variable inside a function, that variable is local, and can only be used inside that function. To create a global variable inside a function, you can use the global keyword."
   ]
  },
  {
   "cell_type": "markdown",
   "id": "d14dc3e4",
   "metadata": {},
   "source": [
    "10. What is the data type of None?"
   ]
  },
  {
   "cell_type": "markdown",
   "id": "e228a0e5",
   "metadata": {},
   "source": [
    "The Data type of None is None Type"
   ]
  },
  {
   "cell_type": "markdown",
   "id": "7654bc49",
   "metadata": {},
   "source": [
    "11. What does the sentence import areallyourpetsnamederic do?"
   ]
  },
  {
   "cell_type": "markdown",
   "id": "5ed80dfd",
   "metadata": {},
   "source": [
    "That import statement imports a module named areallyourpetsnamederic."
   ]
  },
  {
   "cell_type": "markdown",
   "id": "2f9c526a",
   "metadata": {},
   "source": [
    "12. If you had a bacon() feature in a spam module, what would you call it after importing spam?"
   ]
  },
  {
   "cell_type": "markdown",
   "id": "b063abf0",
   "metadata": {},
   "source": [
    "The function can be called with spam.bacon()"
   ]
  },
  {
   "cell_type": "markdown",
   "id": "ff92d323",
   "metadata": {},
   "source": [
    "13.What can you do to save a programme from crashing if it encounters an error?"
   ]
  },
  {
   "cell_type": "markdown",
   "id": "f9b9de66",
   "metadata": {},
   "source": [
    "We can make use of Try Clause "
   ]
  },
  {
   "cell_type": "markdown",
   "id": "ff5bbf75",
   "metadata": {},
   "source": [
    "14. What is the purpose of the try clause? What is the purpose of the except clause?"
   ]
  },
  {
   "cell_type": "markdown",
   "id": "dfe2e79d",
   "metadata": {},
   "source": [
    "The try block lets you test a block of code for errors.<br>\n",
    "\n",
    "The except block lets you handle the error.<br>\n",
    "\n",
    "The else block lets you execute code when there is no error.<br>\n",
    "\n",
    "The finally block lets you execute code, regardless of the result of the try- and except blocks.<br>\n",
    "\n"
   ]
  },
  {
   "cell_type": "code",
   "execution_count": null,
   "id": "ebf7a9ef",
   "metadata": {},
   "outputs": [],
   "source": []
  }
 ],
 "metadata": {
  "kernelspec": {
   "display_name": "Python 3 (ipykernel)",
   "language": "python",
   "name": "python3"
  },
  "language_info": {
   "codemirror_mode": {
    "name": "ipython",
    "version": 3
   },
   "file_extension": ".py",
   "mimetype": "text/x-python",
   "name": "python",
   "nbconvert_exporter": "python",
   "pygments_lexer": "ipython3",
   "version": "3.9.13"
  }
 },
 "nbformat": 4,
 "nbformat_minor": 5
}
